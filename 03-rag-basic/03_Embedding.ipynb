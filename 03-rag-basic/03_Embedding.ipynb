{
 "cells": [
  {
   "cell_type": "markdown",
   "id": "e4a08893-7443-439c-970c-11d2bac3c5ee",
   "metadata": {},
   "source": [
    "# Embddding\n",
    "#### 작성: 고우주"
   ]
  },
  {
   "cell_type": "markdown",
   "id": "e941c0a5-d033-473f-b391-dee941aa3ac0",
   "metadata": {},
   "source": [
    "### 1. Setence Transformer\n",
    "\n",
    "2019년에 발표된 SentenceTransformer는 Bi-encoder아키텍처를 갖추고 있으며 효율적인 문장 임베딩을 생성하기 위해 BERT를 조정하는 역할을 수행했습니다. 최근에 Sentence Transformer는 LLM의 RAG 파이프라인에서 Embedding에 활용 합니다. 이러한 점에서 Sentence Transformer는 일반적으로 텍스트와 텍스트 간의 의미적 유사성을 측정하고 주어진 입력 텍스트를 기반으로 적절한 텍스트 조각을 검색하는 데 사용됩니다.\n",
    "\n",
    "\n",
    "### 2. TF-IDF\n",
    "TF-IDF는 문장의 핵심 단어를 강조하는 데는 탁월하지만 문맥과 문장 구조의 미묘한 차이를 놓치는 경우가 많습니다. 이와는 대조적으로, BERT가 제공하는 SentenceTransformer는 문맥의 의미를 깊이 파고들어 텍스트를 더욱 풍부하고 미묘하게 이해할 수 있게 해줍니다. 그 여정을 통해 깨달음을 얻었습니다: TF-IDF는 빠른 표면 수준 분석이 필요한 작업에 이상적이며, SentenceTransformer는 깊은 의미론적 인사이트가 필요한 시나리오에서 빛을 발합니다. "
   ]
  },
  {
   "cell_type": "markdown",
   "id": "5c67a1a4-991a-4957-a594-9e36b8ff2af0",
   "metadata": {
    "tags": []
   },
   "source": [
    "- `tfidf`: TF-IDF(용어 빈도 역 문서 빈도) 벡터화기를 사용하여 문장을 벡터로 변환하고 코사인 유사도를 계산합니다. \n",
    "\n",
    "- `sentencetransformer`: 사전 학습된 BERT 모델('bert-base-nli-mean-tokens')을 사용하여 문장 임베딩을 생성한 다음 코사인 유사도를 계산합니다."
   ]
  },
  {
   "cell_type": "code",
   "execution_count": 1,
   "id": "ea7d3f6c-e2d3-4e72-810a-9f2e4342d081",
   "metadata": {},
   "outputs": [
    {
     "name": "stdout",
     "output_type": "stream",
     "text": [
      "Note: you may need to restart the kernel to use updated packages.\n"
     ]
    }
   ],
   "source": [
    "%pip install -q sentence_transformers tfidf"
   ]
  },
  {
   "cell_type": "code",
   "execution_count": 2,
   "id": "e0e1ac09-b574-4281-a2d1-e835d09c22ce",
   "metadata": {
    "tags": []
   },
   "outputs": [
    {
     "name": "stderr",
     "output_type": "stream",
     "text": [
      "/home/kubwa/anaconda3/envs/lecture/lib/python3.11/site-packages/sentence_transformers/cross_encoder/CrossEncoder.py:13: TqdmExperimentalWarning: Using `tqdm.autonotebook.tqdm` in notebook mode. Use `tqdm.tqdm` instead to force console mode (e.g. in jupyter console)\n",
      "  from tqdm.autonotebook import tqdm, trange\n",
      "2025-07-10 18:01:08.325109: I tensorflow/core/util/port.cc:110] oneDNN custom operations are on. You may see slightly different numerical results due to floating-point round-off errors from different computation orders. To turn them off, set the environment variable `TF_ENABLE_ONEDNN_OPTS=0`.\n",
      "2025-07-10 18:01:08.431356: I tensorflow/tsl/cuda/cudart_stub.cc:28] Could not find cuda drivers on your machine, GPU will not be used.\n",
      "2025-07-10 18:01:08.806739: I tensorflow/core/platform/cpu_feature_guard.cc:182] This TensorFlow binary is optimized to use available CPU instructions in performance-critical operations.\n",
      "To enable the following instructions: AVX2 AVX512F AVX512_VNNI FMA, in other operations, rebuild TensorFlow with the appropriate compiler flags.\n",
      "2025-07-10 18:01:10.177368: W tensorflow/compiler/tf2tensorrt/utils/py_utils.cc:38] TF-TRT Warning: Could not find TensorRT\n"
     ]
    }
   ],
   "source": [
    "from sentence_transformers import SentenceTransformer\n",
    "from sklearn.feature_extraction.text import TfidfVectorizer\n",
    "from scipy.spatial.distance import cosine\n",
    "import numpy as np"
   ]
  },
  {
   "cell_type": "markdown",
   "id": "8a9f72b9-67d8-490f-94f2-01922abbdd35",
   "metadata": {},
   "source": [
    "## Compute Similarity"
   ]
  },
  {
   "cell_type": "markdown",
   "id": "4f9851cf-205a-4ec3-bf60-6ca4569b1f45",
   "metadata": {},
   "source": [
    "`compute_similariy` 함수는 지정된 방법인 'tfidf' 또는 'sentencetransformer'를 기반으로 두 문장의 유사도를 계산하여 비교합니다. "
   ]
  },
  {
   "cell_type": "code",
   "execution_count": 3,
   "id": "a0bed4bc-3256-4f1a-90c6-6db6adc7c6e8",
   "metadata": {
    "tags": []
   },
   "outputs": [],
   "source": [
    "def compute_similarity(sentence1, sentence2, similarity_type):\n",
    "    if similarity_type == 'tfidf':\n",
    "        # TF-IDF 벡터라이저를 초기화합니다.\n",
    "        vectorizer = TfidfVectorizer()\n",
    "\n",
    "        # vetorizer를 두 문장에 맞추고 TF-IDF 벡터로 변환합니다.\n",
    "        tfidf_matrix = vectorizer.fit_transform([sentence1, sentence2])\n",
    "\n",
    "        # Compute the cosine similarity between the two TF-IDF vectors\n",
    "        similarity = 1 - cosine(\n",
    "            tfidf_matrix[0].toarray()[0], \n",
    "            tfidf_matrix[1].toarray()[0]\n",
    "        )\n",
    "\n",
    "    elif similarity_type == 'sentencetransformer':\n",
    "        # SentenceTransformer 모델을 초기화합니다.\n",
    "        model = SentenceTransformer('bert-base-nli-mean-tokens')\n",
    "\n",
    "        # Sentence embeddings을 계산합니다.\n",
    "        embeddings = model.encode([sentence1, sentence2])\n",
    "\n",
    "        # 두 임베딩 간의 코사인 유사도를 계산합니다.\n",
    "        similarity = 1 - cosine(\n",
    "            embeddings[0], \n",
    "            embeddings[1])\n",
    "\n",
    "    else:\n",
    "        raise ValueError(\"Invalid similarity_type. Choose either 'tfidf' or 'sentencetransformer'.\")\n",
    "\n",
    "    return similarity"
   ]
  },
  {
   "cell_type": "markdown",
   "id": "d7a1d01a-a257-4f3c-b0d0-a184b39d526c",
   "metadata": {},
   "source": [
    "## Text Similarity\n",
    "TFIDF(용어 빈도 역 문서 빈도)와 SentenceTransformer입니다. \n",
    "\n",
    "각 방법에 따라 두 문장이 얼마나 유사한지 측정하기 위해 compute_similarity 함수를 사용하여 자연어 처리에서 의미 분석에 대한 다양한 접근 방식을 보여줍니다."
   ]
  },
  {
   "cell_type": "code",
   "execution_count": 4,
   "id": "6e205c81-0bae-435b-99db-0ec705140752",
   "metadata": {
    "tags": []
   },
   "outputs": [
    {
     "name": "stdout",
     "output_type": "stream",
     "text": [
      "TFIDF Similarity :  0.07874460345594514\n"
     ]
    },
    {
     "data": {
      "application/vnd.jupyter.widget-view+json": {
       "model_id": "7dbcd6cfb6cc4d2a8357197d3d39c453",
       "version_major": 2,
       "version_minor": 0
      },
      "text/plain": [
       "modules.json:   0%|          | 0.00/229 [00:00<?, ?B/s]"
      ]
     },
     "metadata": {},
     "output_type": "display_data"
    },
    {
     "data": {
      "application/vnd.jupyter.widget-view+json": {
       "model_id": "687fa3db97be4540a0fa43f7ea549e3b",
       "version_major": 2,
       "version_minor": 0
      },
      "text/plain": [
       "config_sentence_transformers.json:   0%|          | 0.00/122 [00:00<?, ?B/s]"
      ]
     },
     "metadata": {},
     "output_type": "display_data"
    },
    {
     "data": {
      "application/vnd.jupyter.widget-view+json": {
       "model_id": "62d2bd58e6774560b2f99db33d8dff8d",
       "version_major": 2,
       "version_minor": 0
      },
      "text/plain": [
       "README.md: 0.00B [00:00, ?B/s]"
      ]
     },
     "metadata": {},
     "output_type": "display_data"
    },
    {
     "data": {
      "application/vnd.jupyter.widget-view+json": {
       "model_id": "c35cd209ffe4411ea902dfb51b8f70a2",
       "version_major": 2,
       "version_minor": 0
      },
      "text/plain": [
       "sentence_bert_config.json:   0%|          | 0.00/53.0 [00:00<?, ?B/s]"
      ]
     },
     "metadata": {},
     "output_type": "display_data"
    },
    {
     "data": {
      "application/vnd.jupyter.widget-view+json": {
       "model_id": "b3599abc25a4482d9bae2e78c0e8fdcc",
       "version_major": 2,
       "version_minor": 0
      },
      "text/plain": [
       "config.json:   0%|          | 0.00/625 [00:00<?, ?B/s]"
      ]
     },
     "metadata": {},
     "output_type": "display_data"
    },
    {
     "data": {
      "application/vnd.jupyter.widget-view+json": {
       "model_id": "7fb9bb65623341c89c44ee1c7f8bc81d",
       "version_major": 2,
       "version_minor": 0
      },
      "text/plain": [
       "model.safetensors:   0%|          | 0.00/438M [00:00<?, ?B/s]"
      ]
     },
     "metadata": {},
     "output_type": "display_data"
    },
    {
     "data": {
      "application/vnd.jupyter.widget-view+json": {
       "model_id": "2003c0eafdb14f1ebcb662c484538f3a",
       "version_major": 2,
       "version_minor": 0
      },
      "text/plain": [
       "tokenizer_config.json:   0%|          | 0.00/399 [00:00<?, ?B/s]"
      ]
     },
     "metadata": {},
     "output_type": "display_data"
    },
    {
     "data": {
      "application/vnd.jupyter.widget-view+json": {
       "model_id": "6b81f1d85bb348a49dc3225fb1869fe9",
       "version_major": 2,
       "version_minor": 0
      },
      "text/plain": [
       "vocab.txt: 0.00B [00:00, ?B/s]"
      ]
     },
     "metadata": {},
     "output_type": "display_data"
    },
    {
     "data": {
      "application/vnd.jupyter.widget-view+json": {
       "model_id": "9c875478c6f24cf186d45bd2754ba978",
       "version_major": 2,
       "version_minor": 0
      },
      "text/plain": [
       "tokenizer.json: 0.00B [00:00, ?B/s]"
      ]
     },
     "metadata": {},
     "output_type": "display_data"
    },
    {
     "data": {
      "application/vnd.jupyter.widget-view+json": {
       "model_id": "7e06a62c14fa469a9c33311c91a5fdce",
       "version_major": 2,
       "version_minor": 0
      },
      "text/plain": [
       "added_tokens.json:   0%|          | 0.00/2.00 [00:00<?, ?B/s]"
      ]
     },
     "metadata": {},
     "output_type": "display_data"
    },
    {
     "data": {
      "application/vnd.jupyter.widget-view+json": {
       "model_id": "d6927c65061b418d9f4f225ba1a7d7b7",
       "version_major": 2,
       "version_minor": 0
      },
      "text/plain": [
       "special_tokens_map.json:   0%|          | 0.00/112 [00:00<?, ?B/s]"
      ]
     },
     "metadata": {},
     "output_type": "display_data"
    },
    {
     "data": {
      "application/vnd.jupyter.widget-view+json": {
       "model_id": "59fe40a3e3724882a203d65db82fb483",
       "version_major": 2,
       "version_minor": 0
      },
      "text/plain": [
       "config.json:   0%|          | 0.00/190 [00:00<?, ?B/s]"
      ]
     },
     "metadata": {},
     "output_type": "display_data"
    },
    {
     "name": "stdout",
     "output_type": "stream",
     "text": [
      "SentenceTransformer Similarity :  0.6271942831121081\n"
     ]
    }
   ],
   "source": [
    "sentence1 = \"Generative AI is useful for programming.\"\n",
    "sentence2 = \"Coding will be easy to implement for beginner.\"\n",
    "\n",
    "print('TFIDF Similarity : ', compute_similarity(sentence1, sentence2, 'tfidf'))\n",
    "print('SentenceTransformer Similarity : ', compute_similarity(sentence1, sentence2, 'sentencetransformer'))"
   ]
  },
  {
   "cell_type": "code",
   "execution_count": 5,
   "id": "83a02368-0f7d-488f-ba65-34b5607927e9",
   "metadata": {
    "tags": []
   },
   "outputs": [
    {
     "name": "stdout",
     "output_type": "stream",
     "text": [
      "TFIDF Similarity :  0.2523342014336962\n",
      "SentenceTransformer Similarity :  0.5344065503281913\n"
     ]
    }
   ],
   "source": [
    "sentence1 = \"The cat quickly jumped over the small fence.\"\n",
    "sentence2 = \"The feline swiftly leaped above the low barrier.\"\n",
    "\n",
    "print('TFIDF Similarity : ', compute_similarity(sentence1, sentence2, 'tfidf'))\n",
    "print('SentenceTransformer Similarity : ', compute_similarity(sentence1, sentence2, 'sentencetransformer'))"
   ]
  },
  {
   "cell_type": "code",
   "execution_count": 6,
   "id": "57c72f5a-fad8-4f21-8dc8-92208361294f",
   "metadata": {
    "tags": []
   },
   "outputs": [
    {
     "name": "stdout",
     "output_type": "stream",
     "text": [
      "TFIDF Similarity :  0.1273595297947936\n",
      "SentenceTransformer Similarity :  0.5838586213973489\n"
     ]
    }
   ],
   "source": [
    "sentence1 = \"We love each other.\"\n",
    "sentence2 = \"We like eating vegitable either.\"\n",
    "\n",
    "print('TFIDF Similarity : ', compute_similarity(sentence1, sentence2, 'tfidf'))\n",
    "print('SentenceTransformer Similarity : ', compute_similarity(sentence1, sentence2, 'sentencetransformer'))"
   ]
  },
  {
   "cell_type": "code",
   "execution_count": 7,
   "id": "a914a42a-3ebd-48b8-92f8-8ceba150d177",
   "metadata": {
    "tags": []
   },
   "outputs": [
    {
     "name": "stdout",
     "output_type": "stream",
     "text": [
      "TFIDF Similarity :  1\n",
      "SentenceTransformer Similarity :  0.9362028023229261\n"
     ]
    }
   ],
   "source": [
    "sentence1 = \"He likes drawing more than writing.\"\n",
    "sentence2 = \"More than writing, he likes drawing\"\n",
    "\n",
    "print('TFIDF Similarity : ', compute_similarity(sentence1, sentence2, 'tfidf'))\n",
    "print('SentenceTransformer Similarity : ', compute_similarity(sentence1, sentence2, 'sentencetransformer'))"
   ]
  }
 ],
 "metadata": {
  "kernelspec": {
   "display_name": "lecture",
   "language": "python",
   "name": "lecture"
  },
  "language_info": {
   "codemirror_mode": {
    "name": "ipython",
    "version": 3
   },
   "file_extension": ".py",
   "mimetype": "text/x-python",
   "name": "python",
   "nbconvert_exporter": "python",
   "pygments_lexer": "ipython3",
   "version": "3.11.7"
  }
 },
 "nbformat": 4,
 "nbformat_minor": 5
}
