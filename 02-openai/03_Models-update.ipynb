{
 "cells": [
  {
   "cell_type": "markdown",
   "id": "60e63d71-c5ea-48fe-909a-911bea9bea53",
   "metadata": {},
   "source": [
    "# 03. Models"
   ]
  },
  {
   "cell_type": "code",
   "execution_count": 1,
   "id": "f211a33e-7170-43ae-912a-ad14695980ef",
   "metadata": {},
   "outputs": [],
   "source": [
    "from openai import OpenAI\n",
    "from dotenv import load_dotenv\n",
    "import os\n",
    "\n",
    "load_dotenv()\n",
    "client = OpenAI(api_key=os.getenv(\"OPENAI_API_KEY\"))"
   ]
  },
  {
   "cell_type": "code",
   "execution_count": 6,
   "id": "accb290a-c08e-4ea7-ae5e-0681dac4d3a9",
   "metadata": {},
   "outputs": [],
   "source": [
    "from openai import OpenAI \n",
    "\n",
    "MODEL=\"gpt-4.1\"\n",
    "client = OpenAI()"
   ]
  },
  {
   "cell_type": "code",
   "execution_count": 7,
   "id": "4d4d9fc9-d380-44bb-84a1-ac0990448b34",
   "metadata": {
    "tags": []
   },
   "outputs": [
    {
     "name": "stdout",
     "output_type": "stream",
     "text": [
      "ChatCompletionMessage(content='함수에 대한 시\\n\\n파이썬의 밤,  \\n코드의 숲에서  \\n나는 함수를 부른다.\\n\\ndef 키워드 뒤로  \\n조심스레 이름을 짓고,  \\n괄호 속 매개변수,  \\n안에는 무한한 가능성.\\n\\n들여쓰기 한 칸 한 칸,  \\n생성되는 논리의 줄기.  \\n리턴은 약속된 선물,  \\n돌아오는 값,  \\n손에 쥔 답.\\n\\n복잡한 세계를 한 이름에 담아  \\n필요할 때마다 부르고,  \\n전달하는 값 따라  \\n색다른 결과를 얻는다.\\n\\n함수여,  \\n너는 나의 주문,  \\n나만의 도구,  \\n코드의 흐름 속  \\n빛나는 등불.', refusal=None, role='assistant', annotations=[], audio=None, function_call=None, tool_calls=None)\n"
     ]
    }
   ],
   "source": [
    "completion = client.chat.completions.create(\n",
    "    model=MODEL,\n",
    "    messages=[\n",
    "        {\"role\": \"system\", \"content\": \"너는 유용하게 사용하는 assistant야.\"},\n",
    "        {\n",
    "            \"role\": \"user\",\n",
    "            \"content\": \"Python 프로그래밍에서 함수에 대한 시를 써줘.\"\n",
    "        }\n",
    "    ]\n",
    ")\n",
    "\n",
    "print(completion.choices[0].message)"
   ]
  },
  {
   "cell_type": "markdown",
   "id": "3b85eab6-623e-453b-8729-0ffa023b3989",
   "metadata": {},
   "source": [
    "## 타회사 LLM API 활용"
   ]
  },
  {
   "cell_type": "markdown",
   "id": "cbad76d4-507f-42b3-a1bc-4b8356d5069c",
   "metadata": {},
   "source": [
    "### upstage\n",
    "https://console.upstage.ai/docs/getting-started"
   ]
  },
  {
   "cell_type": "code",
   "execution_count": null,
   "id": "a68adab0-8ae0-4661-a822-cf0f52a06066",
   "metadata": {},
   "outputs": [],
   "source": [
    "from openai import OpenAI\n",
    " \n",
    "client = OpenAI(\n",
    "    api_key=\"UPSTAGE_API_KEY\",\n",
    "    base_url=\"https://api.upstage.ai/v1\"\n",
    ")\n",
    "\n",
    "\n",
    "completion = client.chat.completions.create(\n",
    "    model=\"solar-pro\",\n",
    "    messages=[\n",
    "        {\"role\": \"system\", \"content\": \"너는 유용하게 사용하는 assistant야.\"},\n",
    "        {\n",
    "            \"role\": \"user\",\n",
    "            \"content\": \"Python 프로그래밍에서 함수에 대한 시를 써줘.\"\n",
    "        }\n",
    "    ]\n",
    ")\n",
    "\n",
    "print(completion.choices[0].message)"
   ]
  },
  {
   "cell_type": "markdown",
   "id": "f9f068d1-da62-45b0-9a07-dffddb22293a",
   "metadata": {},
   "source": [
    "### Local에서 Ollama 사용 시"
   ]
  },
  {
   "cell_type": "code",
   "execution_count": null,
   "id": "9a2ad4f3-e067-488e-9ba8-3f760586dfe5",
   "metadata": {},
   "outputs": [],
   "source": [
    "from openai import OpenAI\n",
    "\n",
    "# OpenAI 클라이언트 초기화\n",
    "# base_url을 Ollama 서버 주소로 설정합니다.\n",
    "# api_key는 필수값이지만, 로컬 서버에서는 사용되지 않으므로 아무 값이나 입력합니다.\n",
    "client = OpenAI(\n",
    "    base_url='http://localhost:11434/v1',\n",
    "    api_key='ollama',  # 필수이지만 사용되지는 않음\n",
    ")\n",
    "\n",
    "# Chat Completions API 호출\n",
    "completion = client.chat.completions.create(\n",
    "    model=\"llama3\",  # Ollama에서 실행한 모델 이름\n",
    "    messages=[\n",
    "        {\"role\": \"system\", \"content\": \"당신은 유용한 AI 어시스턴트입니다.\"},\n",
    "        {\"role\": \"user\", \"content\": \"대한민국의 수도는 어디인가요?\"},\n",
    "    ]\n",
    ")\n",
    "\n",
    "# 응답 출력\n",
    "print(completion.choices[0].message)"
   ]
  }
 ],
 "metadata": {
  "kernelspec": {
   "display_name": "lecture",
   "language": "python",
   "name": "lecture"
  },
  "language_info": {
   "codemirror_mode": {
    "name": "ipython",
    "version": 3
   },
   "file_extension": ".py",
   "mimetype": "text/x-python",
   "name": "python",
   "nbconvert_exporter": "python",
   "pygments_lexer": "ipython3",
   "version": "3.11.7"
  }
 },
 "nbformat": 4,
 "nbformat_minor": 5
}
