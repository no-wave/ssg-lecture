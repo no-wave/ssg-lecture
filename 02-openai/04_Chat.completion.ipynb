{
 "cells": [
  {
   "cell_type": "markdown",
   "metadata": {},
   "source": [
    "# OpenAI: ChatCompletion"
   ]
  },
  {
   "cell_type": "code",
   "execution_count": 7,
   "metadata": {
    "tags": []
   },
   "outputs": [],
   "source": [
    "#!pip install python-dotenv"
   ]
  },
  {
   "cell_type": "code",
   "execution_count": 1,
   "metadata": {
    "tags": []
   },
   "outputs": [],
   "source": [
    "from openai import OpenAI\n",
    "from dotenv import load_dotenv\n",
    "import os\n",
    "\n",
    "load_dotenv()\n",
    "client = OpenAI(api_key=os.getenv(\"OPENAI_API_KEY\"))"
   ]
  },
  {
   "cell_type": "markdown",
   "metadata": {},
   "source": [
    "## Client 생성\n",
    "\n",
    "- `client` 는 OpenAI 모듈로 생성된 인스턴스 입니다.\n",
    "\n",
    "[주의] 아래의 코드에서 오류가 난다면 API 키의 오류일 가능성이 높습니다.\n"
   ]
  },
  {
   "cell_type": "code",
   "execution_count": 2,
   "metadata": {
    "tags": []
   },
   "outputs": [
    {
     "data": {
      "text/plain": [
       "<openai.OpenAI at 0x7ff38a213750>"
      ]
     },
     "execution_count": 2,
     "metadata": {},
     "output_type": "execute_result"
    }
   ],
   "source": [
    "from openai import OpenAI \n",
    "\n",
    "MODEL=\"gpt-4o-mini\"\n",
    "client = OpenAI()\n",
    "client"
   ]
  },
  {
   "cell_type": "markdown",
   "metadata": {},
   "source": [
    "## ChatCompletions\n",
    "\n",
    "- API Reference: https://platform.openai.com/docs/api-reference/chat"
   ]
  },
  {
   "cell_type": "code",
   "execution_count": 3,
   "metadata": {
    "tags": []
   },
   "outputs": [],
   "source": [
    "completion = client.chat.completions.create(\n",
    "    model=MODEL,\n",
    "    messages=[\n",
    "        {\n",
    "            \"role\": \"system\",\n",
    "            \"content\": \"당신은 Python 프로그래머입니다.\",\n",
    "        },\n",
    "        {\n",
    "            \"role\": \"user\",\n",
    "            \"content\": \"2차 방정식을 생성하는 Python 프로그램을 코딩해주세요.\",\n",
    "        },\n",
    "    ],\n",
    ")"
   ]
  },
  {
   "cell_type": "code",
   "execution_count": 4,
   "metadata": {
    "tags": []
   },
   "outputs": [
    {
     "name": "stdout",
     "output_type": "stream",
     "text": [
      "아래는 사용자로부터 계수 \\( a \\), \\( b \\), \\( c \\)를 입력받아 2차 방정식 \\( ax^2 + bx + c = 0 \\)을 생성하고 그 방정식의 해를 계산하는 Python 프로그램입니다.\n",
      "\n",
      "```python\n",
      "import math\n",
      "\n",
      "# 2차 방정식의 계수 입력\n",
      "def get_coefficients():\n",
      "    print(\"2차 방정식의 계수를 입력하세요.\")\n",
      "    a = float(input(\"a: \"))\n",
      "    b = float(input(\"b: \"))\n",
      "    c = float(input(\"c: \"))\n",
      "    return a, b, c\n",
      "\n",
      "# 2차 방정식의 해 구하기\n",
      "def solve_quadratic(a, b, c):\n",
      "    discriminant = b**2 - 4*a*c\n",
      "    if discriminant > 0:\n",
      "        root1 = (-b + math.sqrt(discriminant)) / (2*a)\n",
      "        root2 = (-b - math.sqrt(discriminant)) / (2*a)\n",
      "        return (root1, root2)\n",
      "    elif discriminant == 0:\n",
      "        root = -b / (2*a)\n",
      "        return (root,)\n",
      "    else:\n",
      "        return None\n",
      "\n",
      "def main():\n",
      "    a, b, c = get_coefficients()\n",
      "    if a == 0:\n",
      "        print(\"a는 0이 될 수 없습니다. 2차 방정식이 아닙니다.\")\n",
      "        return\n",
      "        \n",
      "    roots = solve_quadratic(a, b, c)\n",
      "    \n",
      "    if roots is None:\n",
      "        print(\"실수 해가 존재하지 않습니다.\")\n",
      "    elif len(roots) == 1:\n",
      "        print(f\"유일한 해: x = {roots[0]}\")\n",
      "    else:\n",
      "        print(f\"두 개의 해: x1 = {roots[0]}, x2 = {roots[1]}\")\n",
      "\n",
      "if __name__ == \"__main__\":\n",
      "    main()\n",
      "```\n",
      "\n",
      "### 프로그램 설명:\n",
      "1. **get_coefficients()**: 사용자가 2차 방정식의 계수 \\( a \\), \\( b \\), \\( c \\)를 입력하도록 합니다.\n",
      "2. **solve_quadratic(a, b, c)**: 주어진 계수로 2차 방정식의 해를 계산하는 함수입니다. 판별식을 사용하여 해의 유형을 결정합니다.\n",
      "    - 두 개의 실수 해를 가지는 경우\n",
      "    - 유일한 실수 해를 가지는 경우\n",
      "    - 실수 해가 존재하지 않는 경우\n",
      "3. **main()**: 프로그램의 메인 함수로, 계수를 입력받고 해를 계산하여 결과를 출력합니다.\n",
      "\n",
      "이 프로그램을 사용하면 2차 방정식의 해를 쉽게 계산할 수 있습니다.\n"
     ]
    }
   ],
   "source": [
    "print(completion.choices[0].message.content)"
   ]
  },
  {
   "cell_type": "markdown",
   "metadata": {},
   "source": [
    "## 스트리밍(Streaming)"
   ]
  },
  {
   "cell_type": "code",
   "execution_count": 5,
   "metadata": {
    "tags": []
   },
   "outputs": [
    {
     "name": "stdout",
     "output_type": "stream",
     "text": [
      "2차 방정식을 생성하는 Python 프로그램을 작성해보겠습니다. 2차 방정식은 일반적으로 \\( ax^2 + bx + c = 0 \\)의 형태를 가지며, 여기서 \\( a \\), \\( b \\), \\( c \\)는 실수입니다. 사용자가 값을 입력하도록 하여 해당 방정식을 생성할 수 있도록 하겠습니다.\n",
      "\n",
      "아래는 Python 코드입니다:\n",
      "\n",
      "```python\n",
      "def main():\n",
      "    print(\"2차 방정식 생성기\")\n",
      "    \n",
      "    # 사용자가 a, b, c 값을 입력합니다.\n",
      "    a = float(input(\"a의 값을 입력하세요 (a ≠ 0): \"))\n",
      "    # a가 0이면 2차 방정식이 아닙니다.\n",
      "    while a == 0:\n",
      "        print(\"a의 값은 0이 될 수 없습니다. 다시 입력하세요.\")\n",
      "        a = float(input(\"a의 값을 입력하세요 (a ≠ 0): \"))\n",
      "    \n",
      "    b = float(input(\"b의 값을 입력하세요: \"))\n",
      "    c = float(input(\"c의 값을 입력하세요: \"))\n",
      "    \n",
      "    # 방정식 표현\n",
      "    equation = f\"{a}x^2 + {b}x + {c} = 0\"\n",
      "    \n",
      "    print(\"생성된 2차 방정식은 다음과 같습니다:\")\n",
      "    print(equation)\n",
      "\n",
      "if __name__ == \"__main__\":\n",
      "    main()\n",
      "```\n",
      "\n",
      "### 사용 방법:\n",
      "1. 코드를 실행하면, 프로그램이 2차 방정식의 계수 \\( a \\), \\( b \\), \\( c \\)를 입력하도록 요구합니다.\n",
      "2. 사용자로부터 입력받은 값을 바탕으로 2차 방정식을 문자열로 생성합니다.\n",
      "3. 생성된 방정식을 콘솔에 출력합니다.\n",
      "\n",
      "이 프로그램은 기본적인 형태의 2차 방정식을 생성하는 기능을 제공합니다. 필요에 따라 추가적인 기능(예: 방정식의 해를 구하기 등)을 통합할 수 있습니다."
     ]
    }
   ],
   "source": [
    "from openai import OpenAI\n",
    "\n",
    "completion = client.chat.completions.create(\n",
    "    model=MODEL,\n",
    "    messages=[\n",
    "        {\n",
    "            \"role\": \"system\",\n",
    "            \"content\": \"당신은 Python 프로그래머입니다.\",\n",
    "        },\n",
    "        {\n",
    "            \"role\": \"user\",\n",
    "            \"content\": \"2차 방정식을 생성하는 Python 프로그램을 코딩해주세요.\",\n",
    "        },\n",
    "    ],\n",
    "    stream=True,  # 스트림 모드 활성화\n",
    ")\n",
    "\n",
    "final_answer = []\n",
    "\n",
    "# 스트림 모드에서는 completion.choices 를 반복문으로 순회\n",
    "for chunk in completion:\n",
    "    # chunk 를 저장\n",
    "    chunk_content = chunk.choices[0].delta.content\n",
    "    # chunk 가 문자열이면 final_answer 에 추가\n",
    "    if isinstance(chunk_content, str):\n",
    "        final_answer.append(chunk_content)\n",
    "        # 토큰 단위로 실시간 답변 출력\n",
    "        print(chunk_content, end=\"\")"
   ]
  },
  {
   "cell_type": "code",
   "execution_count": 6,
   "metadata": {
    "tags": []
   },
   "outputs": [
    {
     "name": "stdout",
     "output_type": "stream",
     "text": [
      "2차 방정식을 생성하는 Python 프로그램을 작성해보겠습니다. 2차 방정식은 일반적으로 \\( ax^2 + bx + c = 0 \\)의 형태를 가지며, 여기서 \\( a \\), \\( b \\), \\( c \\)는 실수입니다. 사용자가 값을 입력하도록 하여 해당 방정식을 생성할 수 있도록 하겠습니다.\n",
      "\n",
      "아래는 Python 코드입니다:\n",
      "\n",
      "```python\n",
      "def main():\n",
      "    print(\"2차 방정식 생성기\")\n",
      "    \n",
      "    # 사용자가 a, b, c 값을 입력합니다.\n",
      "    a = float(input(\"a의 값을 입력하세요 (a ≠ 0): \"))\n",
      "    # a가 0이면 2차 방정식이 아닙니다.\n",
      "    while a == 0:\n",
      "        print(\"a의 값은 0이 될 수 없습니다. 다시 입력하세요.\")\n",
      "        a = float(input(\"a의 값을 입력하세요 (a ≠ 0): \"))\n",
      "    \n",
      "    b = float(input(\"b의 값을 입력하세요: \"))\n",
      "    c = float(input(\"c의 값을 입력하세요: \"))\n",
      "    \n",
      "    # 방정식 표현\n",
      "    equation = f\"{a}x^2 + {b}x + {c} = 0\"\n",
      "    \n",
      "    print(\"생성된 2차 방정식은 다음과 같습니다:\")\n",
      "    print(equation)\n",
      "\n",
      "if __name__ == \"__main__\":\n",
      "    main()\n",
      "```\n",
      "\n",
      "### 사용 방법:\n",
      "1. 코드를 실행하면, 프로그램이 2차 방정식의 계수 \\( a \\), \\( b \\), \\( c \\)를 입력하도록 요구합니다.\n",
      "2. 사용자로부터 입력받은 값을 바탕으로 2차 방정식을 문자열로 생성합니다.\n",
      "3. 생성된 방정식을 콘솔에 출력합니다.\n",
      "\n",
      "이 프로그램은 기본적인 형태의 2차 방정식을 생성하는 기능을 제공합니다. 필요에 따라 추가적인 기능(예: 방정식의 해를 구하기 등)을 통합할 수 있습니다.\n"
     ]
    }
   ],
   "source": [
    "# 전체 답변인 final_answer 를 문자열로 변환하여 출력\n",
    "final_answer = \"\".join(final_answer)\n",
    "print(final_answer)"
   ]
  },
  {
   "cell_type": "markdown",
   "metadata": {},
   "source": [
    "## 연쇄적인 대화\n"
   ]
  },
  {
   "cell_type": "code",
   "execution_count": 7,
   "metadata": {
    "tags": []
   },
   "outputs": [
    {
     "name": "stdout",
     "output_type": "stream",
     "text": [
      "대한민국의 광역시는 총 6곳입니다. 이들은 다음과 같습니다:\n",
      "\n",
      "1. 서울특별시\n",
      "2. 부산광역시\n",
      "3. 대구광역시\n",
      "4. 인천광역시\n",
      "5. 광주광역시\n",
      "6. 대전광역시\n",
      "\n",
      "이 외에도 울산광역시가 있는데, 규정상 울산은 광역시로 분류됩니다. 이를 포함하면 총 7개의 광역시가 됩니다.\n"
     ]
    }
   ],
   "source": [
    "completion = client.chat.completions.create(\n",
    "    model=MODEL,\n",
    "    messages=[\n",
    "        {\n",
    "            \"role\": \"system\",\n",
    "            \"content\": \"You are a helpful assistant. You must answer in Korean.\",\n",
    "        },\n",
    "        {\n",
    "            \"role\": \"user\",\n",
    "            \"content\": \"대한민국의 광역시를 모두 알려줘?\",\n",
    "        },\n",
    "    ],\n",
    ")\n",
    "\n",
    "print(completion.choices[0].message.content)"
   ]
  },
  {
   "cell_type": "code",
   "execution_count": 8,
   "metadata": {
    "tags": []
   },
   "outputs": [],
   "source": [
    "def question(prompt):\n",
    "    completion = client.chat.completions.create(\n",
    "        model=MODEL,\n",
    "        messages=[\n",
    "            {\n",
    "                \"role\": \"system\",\n",
    "                \"content\": \"You are a helpful assistant. You must answer in Korean.\",\n",
    "            },\n",
    "            {\n",
    "                \"role\": \"user\",\n",
    "                \"content\": prompt,  # 사용자의 질문을 입력\n",
    "            },\n",
    "        ],\n",
    "    )\n",
    "    # 답변을 반환\n",
    "    return completion.choices[0].message.content"
   ]
  },
  {
   "cell_type": "code",
   "execution_count": 9,
   "metadata": {
    "tags": []
   },
   "outputs": [
    {
     "data": {
      "text/plain": [
       "'대한민국의 광역시는 다음과 같습니다:\\n\\n1. 서울특별시\\n2. 부산광역시\\n3. 인천광역시\\n4. 대구광역시\\n5. 대전광역시\\n6. 울산광역시\\n7. 광주광역시\\n8. 세종특별자치시\\n\\n이상입니다.'"
      ]
     },
     "execution_count": 9,
     "metadata": {},
     "output_type": "execute_result"
    }
   ],
   "source": [
    "# 첫 번째 질문\n",
    "question(\"대한민국의 광역시를 모두 알려줘\")"
   ]
  },
  {
   "cell_type": "code",
   "execution_count": 10,
   "metadata": {
    "tags": []
   },
   "outputs": [
    {
     "data": {
      "text/plain": [
       "'죄송하지만, 한국어로만 답변해 드릴 수 있습니다. 어떤 질문이든지 말씀해 주세요!'"
      ]
     },
     "execution_count": 10,
     "metadata": {},
     "output_type": "execute_result"
    }
   ],
   "source": [
    "# 두 번째 질문\n",
    "question(\"영어로 답변해줄래\")"
   ]
  },
  {
   "cell_type": "markdown",
   "metadata": {},
   "source": [
    "위의 답변에서 보듯이, GPT가 **다음 질문에 대한 답변을 잘못했습니다.** 이는 이전 대화내용에 대한 **저장을 하지 않았기 때문** 입니다.\n",
    "\n",
    "이를 해결하기 위해, 대화의 연속성을 유지하는 로직을 추가해야 합니다. 대화의 각 부분(사용자의 질문과 AI의 응답)을 messages 리스트에 순차적으로 추가함으로써, 챗봇은 이전의 대화 내용을 참조하여 적절한 답변을 생성할 수 있습니다.\n"
   ]
  },
  {
   "cell_type": "code",
   "execution_count": 11,
   "metadata": {
    "tags": []
   },
   "outputs": [
    {
     "name": "stdout",
     "output_type": "stream",
     "text": [
      "There are a total of 6 metropolitan cities in South Korea.\n"
     ]
    }
   ],
   "source": [
    "completion = client.chat.completions.create(\n",
    "    model=MODEL,\n",
    "    messages=[\n",
    "        {\n",
    "            \"role\": \"system\",\n",
    "            \"content\": \"You are a helpful assistant. You must answer in Korean.\",\n",
    "        },\n",
    "        {\n",
    "            \"role\": \"user\",\n",
    "            \"content\": \"대한민국의 광역시를 모두 알려줘?\",  # 첫 번째 질문\n",
    "        },\n",
    "        {\n",
    "            \"role\": \"assistant\",\n",
    "            \"content\": \"대한민국의 광역시는 총 6곳입니다.\",  # 첫 번째 답변\n",
    "        },\n",
    "        {\n",
    "            \"role\": \"user\",\n",
    "            \"content\": \"이전의 답변을 영어로 번역해 주세요.\",  # 두 번째 질문\n",
    "        },\n",
    "    ],\n",
    ")\n",
    "\n",
    "# 두 번째 답변을 출력\n",
    "print(completion.choices[0].message.content)"
   ]
  },
  {
   "cell_type": "markdown",
   "metadata": {},
   "source": [
    "## 사용자 정의 함수"
   ]
  },
  {
   "cell_type": "code",
   "execution_count": 12,
   "metadata": {
    "tags": []
   },
   "outputs": [],
   "source": [
    "def question(prompt, history=[], model=MODEL):\n",
    "    if len(history) == 0:\n",
    "        # 최초 질문\n",
    "        history.append(\n",
    "            {\n",
    "                \"role\": \"system\",\n",
    "                \"content\": \"You are a helpful assistant. You must answer in Korean.\",\n",
    "            }\n",
    "        )\n",
    "\n",
    "    # 사용자 질문 추가\n",
    "    history.append(\n",
    "        {\n",
    "            \"role\": \"user\",\n",
    "            \"content\": prompt,\n",
    "        },\n",
    "    )\n",
    "\n",
    "    # GPT에 질문을 전달하여 답변을 생성\n",
    "    completion = client.chat.completions.create(\n",
    "        model=model,\n",
    "        messages=history,\n",
    "    )\n",
    "\n",
    "    # 사용자 질문에 대한 답변을 추가\n",
    "    history.append(\n",
    "        {\"role\": \"assistant\", \"content\": completion.choices[0].message.content}\n",
    "    )\n",
    "\n",
    "    return history"
   ]
  },
  {
   "cell_type": "code",
   "execution_count": 13,
   "metadata": {
    "tags": []
   },
   "outputs": [
    {
     "name": "stdout",
     "output_type": "stream",
     "text": [
      "{'role': 'assistant', 'content': '엔트로피는 정보 이론에서 중요한 개념으로, 주어진 확률 분포에 대한 불확실성 또는 난이도를 정량적으로 측정합니다. 주로 클로드 섀넌(Claude Shannon)이 개발한 개념으로, 시스템이나 데이터 집합의 무작위성과 정보량을 평가하는 데 사용됩니다.\\n\\n확률과 엔트로피의 관계를 이해하기 위해서는 다음의 두 가지 주요 개념을 알아야 합니다.\\n\\n1. **확률 분포**: 확률 분포는 특정 사건이 발생할 가능성을 나타내는 함수입니다. 예를 들어, 동전을 던질 때 앞면이 나올 확률이 0.5, 뒷면이 나올 확률이 0.5인 경우, 이 이벤트의 확률 분포는 동전의 두 면 간의 균등한 확률로 설명됩니다.\\n\\n2. **엔트로피 계산**: 주어진 확률 분포 \\\\( P(X) \\\\)에 대해 엔트로피 \\\\( H(X) \\\\)는 다음과 같이 정의됩니다:\\n\\n   \\\\[\\n   H(X) = - \\\\sum_{i} P(x_i) \\\\log P(x_i)\\n   \\\\]\\n\\n   여기서 \\\\( x_i \\\\)는 가능한 사건을 나타내고, \\\\( P(x_i) \\\\)는 해당 사건의 발생 확률입니다. 로그는 일반적으로 밑이 2인 로그를 사용하여 정보량을 비트 단위로 측정합니다.\\n\\n이 식에서 볼 수 있듯이, 확률이 낮은 사건은 엔트로피에 더 큰 기여를 하며, 확률이 높은 사건은 적은 기여를 합니다. 따라서 엔트로피는 사건의 확률이 클수록 정보량이 적고, 확률이 작을수록 정보량이 많다는 것을 의미합니다. \\n\\n요약하자면, 엔트로피는 확률을 통해 특정 시스템의 불확실성과 정보를 측정하는 데 필수적인 도구입니다. 확률이 높을수록 더 예측 가능하여 엔트로피는 낮아지고, 확률이 낮을수록 예측 불가능하여 엔트로피는 높아집니다.'}\n"
     ]
    }
   ],
   "source": [
    "# 최초 질문\n",
    "history = question(\n",
    "    \"엔트로피에서 확율에 대하여 설명해줄래\", \n",
    "    history=[]\n",
    ")\n",
    "\n",
    "# 최초 답변\n",
    "print(history[-1])"
   ]
  },
  {
   "cell_type": "code",
   "execution_count": 14,
   "metadata": {
    "tags": []
   },
   "outputs": [
    {
     "data": {
      "text/plain": [
       "[{'role': 'system',\n",
       "  'content': 'You are a helpful assistant. You must answer in Korean.'},\n",
       " {'role': 'user', 'content': '엔트로피에서 확율에 대하여 설명해줄래'},\n",
       " {'role': 'assistant',\n",
       "  'content': '엔트로피는 정보 이론에서 중요한 개념으로, 주어진 확률 분포에 대한 불확실성 또는 난이도를 정량적으로 측정합니다. 주로 클로드 섀넌(Claude Shannon)이 개발한 개념으로, 시스템이나 데이터 집합의 무작위성과 정보량을 평가하는 데 사용됩니다.\\n\\n확률과 엔트로피의 관계를 이해하기 위해서는 다음의 두 가지 주요 개념을 알아야 합니다.\\n\\n1. **확률 분포**: 확률 분포는 특정 사건이 발생할 가능성을 나타내는 함수입니다. 예를 들어, 동전을 던질 때 앞면이 나올 확률이 0.5, 뒷면이 나올 확률이 0.5인 경우, 이 이벤트의 확률 분포는 동전의 두 면 간의 균등한 확률로 설명됩니다.\\n\\n2. **엔트로피 계산**: 주어진 확률 분포 \\\\( P(X) \\\\)에 대해 엔트로피 \\\\( H(X) \\\\)는 다음과 같이 정의됩니다:\\n\\n   \\\\[\\n   H(X) = - \\\\sum_{i} P(x_i) \\\\log P(x_i)\\n   \\\\]\\n\\n   여기서 \\\\( x_i \\\\)는 가능한 사건을 나타내고, \\\\( P(x_i) \\\\)는 해당 사건의 발생 확률입니다. 로그는 일반적으로 밑이 2인 로그를 사용하여 정보량을 비트 단위로 측정합니다.\\n\\n이 식에서 볼 수 있듯이, 확률이 낮은 사건은 엔트로피에 더 큰 기여를 하며, 확률이 높은 사건은 적은 기여를 합니다. 따라서 엔트로피는 사건의 확률이 클수록 정보량이 적고, 확률이 작을수록 정보량이 많다는 것을 의미합니다. \\n\\n요약하자면, 엔트로피는 확률을 통해 특정 시스템의 불확실성과 정보를 측정하는 데 필수적인 도구입니다. 확률이 높을수록 더 예측 가능하여 엔트로피는 낮아지고, 확률이 낮을수록 예측 불가능하여 엔트로피는 높아집니다.'}]"
      ]
     },
     "execution_count": 14,
     "metadata": {},
     "output_type": "execute_result"
    }
   ],
   "source": [
    "history"
   ]
  },
  {
   "cell_type": "code",
   "execution_count": 15,
   "metadata": {
    "tags": []
   },
   "outputs": [
    {
     "name": "stdout",
     "output_type": "stream",
     "text": [
      "{'role': 'assistant', 'content': 'Sure! Here’s the explanation in English:\\n\\nEntropy is an important concept in information theory that quantitatively measures the uncertainty or difficulty of a given probability distribution. It was primarily developed by Claude Shannon and is used to evaluate randomness and the amount of information in a system or dataset.\\n\\nTo understand the relationship between probability and entropy, we need to consider two main concepts:\\n\\n1. **Probability Distribution**: A probability distribution is a function that describes the likelihood of particular outcomes. For instance, when flipping a coin, if the probability of heads is 0.5 and the probability of tails is also 0.5, this event has a uniform probability distribution between the two sides of the coin.\\n\\n2. **Entropy Calculation**: For a given probability distribution \\\\( P(X) \\\\), the entropy \\\\( H(X) \\\\) is defined as follows:\\n\\n   \\\\[\\n   H(X) = - \\\\sum_{i} P(x_i) \\\\log P(x_i)\\n   \\\\]\\n\\n   Here, \\\\( x_i \\\\) represents the possible outcomes, and \\\\( P(x_i) \\\\) is the probability of that outcome occurring. The logarithm is typically taken with base 2 to measure information in bits.\\n\\nFrom this formula, we can see that events with low probabilities contribute more to the entropy, while events with high probabilities contribute less. Therefore, entropy indicates that the higher the probability of an event, the less information it carries (more predictable), and the lower the probability, the more information it carries (less predictable).\\n\\nIn summary, entropy is an essential tool for measuring uncertainty and information in a certain system through probabilities. Higher probabilities result in lower entropy, meaning more predictability, whereas lower probabilities result in higher entropy, implying greater unpredictability.'}\n"
     ]
    }
   ],
   "source": [
    "# 두 번째 질문\n",
    "history = question(\n",
    "    \"이전의 내용을 영어로 답변해줄래.\", \n",
    "    history=history\n",
    ")\n",
    "# 두 번째 답변\n",
    "print(history[-1])"
   ]
  },
  {
   "cell_type": "code",
   "execution_count": 16,
   "metadata": {
    "tags": []
   },
   "outputs": [
    {
     "data": {
      "text/plain": [
       "[{'role': 'system',\n",
       "  'content': 'You are a helpful assistant. You must answer in Korean.'},\n",
       " {'role': 'user', 'content': '엔트로피에서 확율에 대하여 설명해줄래'},\n",
       " {'role': 'assistant',\n",
       "  'content': '엔트로피는 정보 이론에서 중요한 개념으로, 주어진 확률 분포에 대한 불확실성 또는 난이도를 정량적으로 측정합니다. 주로 클로드 섀넌(Claude Shannon)이 개발한 개념으로, 시스템이나 데이터 집합의 무작위성과 정보량을 평가하는 데 사용됩니다.\\n\\n확률과 엔트로피의 관계를 이해하기 위해서는 다음의 두 가지 주요 개념을 알아야 합니다.\\n\\n1. **확률 분포**: 확률 분포는 특정 사건이 발생할 가능성을 나타내는 함수입니다. 예를 들어, 동전을 던질 때 앞면이 나올 확률이 0.5, 뒷면이 나올 확률이 0.5인 경우, 이 이벤트의 확률 분포는 동전의 두 면 간의 균등한 확률로 설명됩니다.\\n\\n2. **엔트로피 계산**: 주어진 확률 분포 \\\\( P(X) \\\\)에 대해 엔트로피 \\\\( H(X) \\\\)는 다음과 같이 정의됩니다:\\n\\n   \\\\[\\n   H(X) = - \\\\sum_{i} P(x_i) \\\\log P(x_i)\\n   \\\\]\\n\\n   여기서 \\\\( x_i \\\\)는 가능한 사건을 나타내고, \\\\( P(x_i) \\\\)는 해당 사건의 발생 확률입니다. 로그는 일반적으로 밑이 2인 로그를 사용하여 정보량을 비트 단위로 측정합니다.\\n\\n이 식에서 볼 수 있듯이, 확률이 낮은 사건은 엔트로피에 더 큰 기여를 하며, 확률이 높은 사건은 적은 기여를 합니다. 따라서 엔트로피는 사건의 확률이 클수록 정보량이 적고, 확률이 작을수록 정보량이 많다는 것을 의미합니다. \\n\\n요약하자면, 엔트로피는 확률을 통해 특정 시스템의 불확실성과 정보를 측정하는 데 필수적인 도구입니다. 확률이 높을수록 더 예측 가능하여 엔트로피는 낮아지고, 확률이 낮을수록 예측 불가능하여 엔트로피는 높아집니다.'},\n",
       " {'role': 'user', 'content': '이전의 내용을 영어로 답변해줄래.'},\n",
       " {'role': 'assistant',\n",
       "  'content': 'Sure! Here’s the explanation in English:\\n\\nEntropy is an important concept in information theory that quantitatively measures the uncertainty or difficulty of a given probability distribution. It was primarily developed by Claude Shannon and is used to evaluate randomness and the amount of information in a system or dataset.\\n\\nTo understand the relationship between probability and entropy, we need to consider two main concepts:\\n\\n1. **Probability Distribution**: A probability distribution is a function that describes the likelihood of particular outcomes. For instance, when flipping a coin, if the probability of heads is 0.5 and the probability of tails is also 0.5, this event has a uniform probability distribution between the two sides of the coin.\\n\\n2. **Entropy Calculation**: For a given probability distribution \\\\( P(X) \\\\), the entropy \\\\( H(X) \\\\) is defined as follows:\\n\\n   \\\\[\\n   H(X) = - \\\\sum_{i} P(x_i) \\\\log P(x_i)\\n   \\\\]\\n\\n   Here, \\\\( x_i \\\\) represents the possible outcomes, and \\\\( P(x_i) \\\\) is the probability of that outcome occurring. The logarithm is typically taken with base 2 to measure information in bits.\\n\\nFrom this formula, we can see that events with low probabilities contribute more to the entropy, while events with high probabilities contribute less. Therefore, entropy indicates that the higher the probability of an event, the less information it carries (more predictable), and the lower the probability, the more information it carries (less predictable).\\n\\nIn summary, entropy is an essential tool for measuring uncertainty and information in a certain system through probabilities. Higher probabilities result in lower entropy, meaning more predictability, whereas lower probabilities result in higher entropy, implying greater unpredictability.'}]"
      ]
     },
     "execution_count": 16,
     "metadata": {},
     "output_type": "execute_result"
    }
   ],
   "source": [
    "history"
   ]
  },
  {
   "cell_type": "markdown",
   "metadata": {},
   "source": [
    "이번에는 이전 대화내용을 `history` 에 저장하여 전달하였습니다. 이전 대화내용을 저장하면서 `history` 를 통해 대화를 이어나갈 수 있습니다.\n"
   ]
  },
  {
   "cell_type": "markdown",
   "metadata": {},
   "source": [
    "## Parser: json_object 답변"
   ]
  },
  {
   "cell_type": "code",
   "execution_count": 17,
   "metadata": {
    "tags": []
   },
   "outputs": [
    {
     "name": "stdout",
     "output_type": "stream",
     "text": [
      "{\n",
      "  \"광역시\": [\n",
      "    \"서울특별시\",\n",
      "    \"부산광역시\",\n",
      "    \"대구광역시\",\n",
      "    \"인천광역시\",\n",
      "    \"광주광역시\",\n",
      "    \"대전광역시\",\n",
      "    \"울산광역시\"\n",
      "  ]\n",
      "}\n"
     ]
    }
   ],
   "source": [
    "completion = client.chat.completions.create(\n",
    "    model=MODEL,\n",
    "    messages=[\n",
    "        {\n",
    "            \"role\": \"system\",\n",
    "            # 답변 형식을 JSON 으로 받기 위해 프롬프트에 JSON 형식을 지정\n",
    "            \"content\": \"You are a helpful assistant designed to output JSON. You must answer in Korean.\",\n",
    "        },\n",
    "        {\n",
    "            \"role\": \"user\",\n",
    "            \"content\": \"대한민국의 광역시를 모두 알려줘.\",\n",
    "        },\n",
    "    ],\n",
    "    response_format={\"type\": \"json_object\"},  # 답변 형식을 JSON 으로 지정\n",
    ")\n",
    "\n",
    "print(completion.choices[0].message.content)"
   ]
  },
  {
   "cell_type": "code",
   "execution_count": 18,
   "metadata": {
    "tags": []
   },
   "outputs": [
    {
     "name": "stdout",
     "output_type": "stream",
     "text": [
      "{\n",
      "  \"questions\": [\n",
      "    {\n",
      "      \"question\": \"딥러닝에서 '신경망'이란 무엇을 의미하는가?\",\n",
      "      \"options\": [\n",
      "        \"A. 데이터의 전처리 방법\",\n",
      "        \"B. 기계 학습의 한 종류\",\n",
      "        \"C. 인간의 뇌 구조를 모방한 알고리즘\",\n",
      "        \"D. 데이터베이스 관리 시스템\",\n",
      "        \"E. 통계 분석 기법\"\n",
      "      ],\n",
      "      \"answer\": \"C\"\n",
      "    },\n",
      "    {\n",
      "      \"question\": \"딥러닝에서 '과적합'이란 어떤 상황을 의미하는가?\",\n",
      "      \"options\": [\n",
      "        \"A. 모델이 학습 데이터에 너무 잘 맞추어져 일반화 능력이 떨어지는 현상\",\n",
      "        \"B. 모델이 학습 데이터와 테스트 데이터 모두에 잘 맞는 상태\",\n",
      "        \"C. 모델이 학습 데이터에 전혀 맞지 않는 상태\",\n",
      "        \"D. 모델의 학습 속도가 느린 현상\",\n",
      "        \"E. 모델이 너무 간단하여 복잡한 데이터를 처리하지 못하는 현상\"\n",
      "      ],\n",
      "      \"answer\": \"A\"\n",
      "    },\n",
      "    {\n",
      "      \"question\": \"딥러닝에서 '활성화 함수'의 주된 목적은 무엇인가?\",\n",
      "      \"options\": [\n",
      "        \"A. 입력 데이터를 정규화하기 위함\",\n",
      "        \"B. 신경망의 비선\n"
     ]
    }
   ],
   "source": [
    "response = client.chat.completions.create(\n",
    "    model=MODEL,\n",
    "    response_format={\"type\": \"json_object\"},\n",
    "    messages=[\n",
    "        {\n",
    "            \"role\": \"system\",\n",
    "            \"content\": \"You are a helpful assistant designed to output JSON.\",\n",
    "        },\n",
    "        {\n",
    "            \"role\": \"user\",\n",
    "            \"content\": \"딥러닝에 대한 문제를 5지 선다형으로 만들어줘.\",\n",
    "        },\n",
    "    ],\n",
    "    temperature=0.5,\n",
    "    max_tokens=300,\n",
    ")\n",
    "print(response.choices[0].message.content)"
   ]
  },
  {
   "cell_type": "code",
   "execution_count": 19,
   "metadata": {
    "tags": []
   },
   "outputs": [],
   "source": [
    "response = client.chat.completions.create(\n",
    "    model=MODEL,\n",
    "    response_format={\"type\": \"json_object\"},\n",
    "    messages=[\n",
    "        {\n",
    "            \"role\": \"system\",\n",
    "            \"content\": \"You are a helpful assistant designed to output JSON.\",\n",
    "        },\n",
    "        {\n",
    "            \"role\": \"user\",\n",
    "            \"content\": \"딥러닝에 대한 5지 선다형 객관식 문제를 만들어줘. 정답은 index 번호로 알려줘.\"\n",
    "            \"난이도는 [상, 중, 하] 중 하나로 표기해줘.\",\n",
    "        },\n",
    "    ],\n",
    "    temperature=0.5,\n",
    "    max_tokens=300,\n",
    "    n=5,\n",
    ")"
   ]
  },
  {
   "cell_type": "code",
   "execution_count": 20,
   "metadata": {
    "tags": []
   },
   "outputs": [
    {
     "name": "stdout",
     "output_type": "stream",
     "text": [
      "{\n",
      "  \"questions\": [\n",
      "    {\n",
      "      \"question\": \"딥러닝에서 '오버피팅(overfitting)'이란 무엇을 의미하는가?\",\n",
      "      \"options\": [\n",
      "        \"모델이 훈련 데이터에 너무 잘 맞춰져서 새로운 데이터에 대한 일반화 성능이 떨어지는 현상\",\n",
      "        \"모델이 훈련 데이터와 검증 데이터 모두에 대해 성능이 좋지 않은 현상\",\n",
      "        \"모델이 훈련 데이터에 대해 성능이 나쁘지만 새로운 데이터에 대해서는 좋은 성능을 보이는 현상\",\n",
      "        \"모델이 훈련 데이터의 일부만 학습하는 현상\",\n",
      "        \"모델이 훈련 과정에서 너무 많은 학습을 하여 성능이 저하되는 현상\"\n",
      "      ],\n",
      "      \"answer\": 0,\n",
      "      \"difficulty\": \"중\"\n",
      "    },\n",
      "    {\n",
      "      \"question\": \"CNN(Convolutional Neural Network)의 주된 용도는 무엇인가?\",\n",
      "      \"options\": [\n",
      "        \"자연어 처리\",\n",
      "        \"이미지 인식 및 처리\",\n",
      "        \"시계열 데이터 분석\",\n",
      "        \"강화 학습\",\n",
      "        \"클러스터링\"\n",
      "      ],\n",
      "      \"answer\": 1,\n",
      "      \"difficulty\": \"하\"\n",
      "    },\n",
      "    {\n",
      "      \"question\": \"딥러닝에서 '활성화 함수'의 역할은 무엇인가?\",\n",
      "      \"options\":\n",
      "{\"questions\":[{\"question\":\"딥러닝에서 '과적합(overfitting)'을 방지하기 위한 일반적인 방법은 무엇인가요?\",\"options\":[\"데이터 증강(data augmentation)\",\"모델의 복잡성 증가\",\"학습률을 높인다\",\"배치 정규화(batch normalization) 사용\",\"훈련 데이터의 양을 줄인다\"],\"answer\":0,\"difficulty\":\"중\"},{\"question\":\"다음 중 CNN(합성곱 신경망)의 주요 구성 요소는 무엇인가요?\",\"options\":[\"ReLU 활성화 함수\",\"순환층(recurrent layer)\",\"드롭아웃(dropout)\",\"전결합층(fully connected layer)\",\"모든 옵션 포함\"],\"answer\":4,\"difficulty\":\"하\"},{\"question\":\"딥러닝의 '백프로파게이션(backpropagation)' 과정의 주된 목적은 무엇인가요?\",\"options\":[\"모델을 초기화하기 위해\",\"손실 함수의 기울기를 계산하기 위해\",\"데이터를 전처리하기 위해\",\"모델의 하이퍼파라미터를 조정하기 위해\",\"훈련 데이터를 증강하기 위해\"],\"answer\":1,\"difficulty\":\"중\"},{\"question\":\"다음 중 자연어 처리(NLP)에서 자주 사용되는 딥러닝 모델은 무엇인가요?\",\"options\":[\"LSTM(Long Short-Term Memory)\",\"SVM(Support Vector Machine)\",\"KNN(K-Nearest Ne\n",
      "{\n",
      "  \"questions\": [\n",
      "    {\n",
      "      \"question\": \"딥러닝에서 '과적합'이란 무엇을 의미하는가?\",\n",
      "      \"options\": [\n",
      "        \"모델이 학습 데이터에 대해 너무 잘 학습하여 새로운 데이터에 대한 일반화 능력이 떨어지는 현상\",\n",
      "        \"모델이 너무 적은 데이터를 학습하여 성능이 떨어지는 현상\",\n",
      "        \"모델이 학습 중에 발생하는 오류를 의미하는 용어\",\n",
      "        \"모델이 학습 데이터와 테스트 데이터의 분포가 다른 경우\",\n",
      "        \"모델의 파라미터 수가 너무 적은 경우\"\n",
      "      ],\n",
      "      \"answer_index\": 0,\n",
      "      \"difficulty\": \"중\"\n",
      "    },\n",
      "    {\n",
      "      \"question\": \"Convolutional Neural Network (CNN)의 주된 용도는 무엇인가?\",\n",
      "      \"options\": [\n",
      "        \"자연어 처리\",\n",
      "        \"이미지 인식 및 처리\",\n",
      "        \"시계열 데이터 분석\",\n",
      "        \"강화 학습\",\n",
      "        \"클러스터링\"\n",
      "      ],\n",
      "      \"answer_index\": 1,\n",
      "      \"difficulty\": \"중\"\n",
      "    },\n",
      "    {\n",
      "      \"question\": \"딥러닝에서 '활성화 함수'의 역할은 무엇인가?\",\n",
      "      \"options\": [\n",
      "        \"모델의 출력값을 정규화하는 것\",\n",
      "        \"모델의 가중치를 업데이트하는 것\",\n",
      "        \"신경망\n",
      "{\n",
      "  \"questions\": [\n",
      "    {\n",
      "      \"question\": \"딥러닝에서 '뉴런'의 역할은 무엇인가요?\",\n",
      "      \"options\": [\n",
      "        \"A. 데이터의 전처리\",\n",
      "        \"B. 입력 데이터의 가중합과 활성화 함수를 통해 출력을 생성\",\n",
      "        \"C. 모델의 성능을 평가\",\n",
      "        \"D. 하이퍼파라미터 튜닝\",\n",
      "        \"E. 데이터 시각화\"\n",
      "      ],\n",
      "      \"answer_index\": 1,\n",
      "      \"difficulty\": \"중\"\n",
      "    },\n",
      "    {\n",
      "      \"question\": \"CNN(합성곱 신경망)의 주 용도는 무엇인가요?\",\n",
      "      \"options\": [\n",
      "        \"A. 자연어 처리\",\n",
      "        \"B. 이미지 인식 및 처리\",\n",
      "        \"C. 시계열 데이터 분석\",\n",
      "        \"D. 강화 학습\",\n",
      "        \"E. 데이터 클러스터링\"\n",
      "      ],\n",
      "      \"answer_index\": 1,\n",
      "      \"difficulty\": \"상\"\n",
      "    },\n",
      "    {\n",
      "      \"question\": \"딥러닝 모델의 과적합(overfitting)을 방지하기 위한 방법 중 하나는 무엇인가요?\",\n",
      "      \"options\": [\n",
      "        \"A. 더 많은 학습 데이터 수집\",\n",
      "        \"B. 학습률 증가\",\n",
      "        \"C. 레이어 수 증가\",\n",
      "        \"D. 데이터 정규화\",\n",
      "        \"E. 조기 종료(Early stopping)\"\n",
      "\n",
      "{\n",
      "  \"questions\": [\n",
      "    {\n",
      "      \"question\": \"딥러닝에서 '신경망'의 기본 단위는 무엇인가요?\",\n",
      "      \"options\": [\n",
      "        \"A. 뉴런\",\n",
      "        \"B. 레이어\",\n",
      "        \"C. 파라미터\",\n",
      "        \"D. 활성화 함수\",\n",
      "        \"E. 손실 함수\"\n",
      "      ],\n",
      "      \"answer\": 0,\n",
      "      \"difficulty\": \"하\"\n",
      "    },\n",
      "    {\n",
      "      \"question\": \"딥러닝 모델에서 '과적합'을 방지하기 위한 방법이 아닌 것은?\",\n",
      "      \"options\": [\n",
      "        \"A. 드롭아웃\",\n",
      "        \"B. 조기 종료\",\n",
      "        \"C. 데이터 증강\",\n",
      "        \"D. 학습률 증가\",\n",
      "        \"E. 정규화\"\n",
      "      ],\n",
      "      \"answer\": 3,\n",
      "      \"difficulty\": \"중\"\n",
      "    },\n",
      "    {\n",
      "      \"question\": \"CNN(합성곱 신경망)의 주된 용도는 무엇인가요?\",\n",
      "      \"options\": [\n",
      "        \"A. 자연어 처리\",\n",
      "        \"B. 시계열 예측\",\n",
      "        \"C. 이미지 인식\",\n",
      "        \"D. 강화 학습\",\n",
      "        \"E. 추천 시스템\"\n",
      "      ],\n",
      "      \"answer\": 2,\n",
      "      \"difficulty\": \"하\"\n",
      "    },\n",
      "    {\n",
      "      \"question\": \"RNN(순환 신경망)의 특징으로 옳은 것은?\",\n",
      "\n"
     ]
    }
   ],
   "source": [
    "for res in response.choices:\n",
    "    print(res.message.content)"
   ]
  }
 ],
 "metadata": {
  "kernelspec": {
   "display_name": "lecture",
   "language": "python",
   "name": "lecture"
  },
  "language_info": {
   "codemirror_mode": {
    "name": "ipython",
    "version": 3
   },
   "file_extension": ".py",
   "mimetype": "text/x-python",
   "name": "python",
   "nbconvert_exporter": "python",
   "pygments_lexer": "ipython3",
   "version": "3.11.7"
  }
 },
 "nbformat": 4,
 "nbformat_minor": 4
}
