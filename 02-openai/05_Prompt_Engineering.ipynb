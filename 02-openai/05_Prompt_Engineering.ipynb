{
 "cells": [
  {
   "cell_type": "markdown",
   "id": "9c4700eb-00ef-433f-b574-2fb7f644226d",
   "metadata": {
    "id": "9c4700eb-00ef-433f-b574-2fb7f644226d"
   },
   "source": [
    "# Prompt Engineering\n",
    "\n",
    "* In context learning.\n",
    "* Response formating.\n",
    "* Sentiment classification."
   ]
  },
  {
   "cell_type": "code",
   "execution_count": 1,
   "id": "8f95059f-cde3-46d5-b149-95e7fc40b684",
   "metadata": {
    "tags": []
   },
   "outputs": [],
   "source": [
    "from openai import OpenAI\n",
    "from dotenv import load_dotenv\n",
    "import os\n",
    "\n",
    "load_dotenv()\n",
    "client = OpenAI(api_key=os.getenv(\"OPENAI_API_KEY\"))"
   ]
  },
  {
   "cell_type": "code",
   "execution_count": 2,
   "id": "fba193cc-d8a0-4ad2-8177-380204426859",
   "metadata": {
    "id": "fba193cc-d8a0-4ad2-8177-380204426859"
   },
   "outputs": [],
   "source": [
    "from openai import OpenAI \n",
    "\n",
    "MODEL = \"gpt-4o-mini\"\n",
    "client = OpenAI()"
   ]
  },
  {
   "cell_type": "markdown",
   "id": "502cfc93-21e0-498f-9650-37bc6ddd514d",
   "metadata": {
    "id": "502cfc93-21e0-498f-9650-37bc6ddd514d"
   },
   "source": [
    "## Formating the answer with Few Shot Samples"
   ]
  },
  {
   "cell_type": "code",
   "execution_count": 3,
   "id": "a8344712-06d7-4c24-83d8-f36d62926e5e",
   "metadata": {
    "id": "a8344712-06d7-4c24-83d8-f36d62926e5e"
   },
   "outputs": [],
   "source": [
    "def return_Response(user_message, context):\n",
    "\n",
    "    newcontext = context.copy()\n",
    "    newcontext.append(\n",
    "        {\n",
    "            'role':'user', 'content':\n",
    "            \"question: \" + user_message\n",
    "        }\n",
    "    )\n",
    "\n",
    "    response = client.chat.completions.create(\n",
    "            model=MODEL,\n",
    "            messages=newcontext,\n",
    "            temperature=1,\n",
    "        )\n",
    "\n",
    "    return (response.choices[0].message.content)"
   ]
  },
  {
   "cell_type": "markdown",
   "id": "57be14c3-40b1-4fe5-9589-68f4a1c2a76f",
   "metadata": {},
   "source": [
    "## Zero-shot"
   ]
  },
  {
   "cell_type": "code",
   "execution_count": 4,
   "id": "647790be-fdb8-4692-a82e-7e3a0220f72a",
   "metadata": {
    "colab": {
     "base_uri": "https://localhost:8080/"
    },
    "id": "647790be-fdb8-4692-a82e-7e3a0220f72a",
    "outputId": "ed07d20e-e90b-41a3-cd1a-64d84f0ac7d2"
   },
   "outputs": [
    {
     "name": "stdout",
     "output_type": "stream",
     "text": [
      "2022년 월드컵에서 우승한 팀은 아르헨티나입니다. 아르헨티나는 프랑스를 결승에서 이기고 우승을 차지했습니다. MVP, 즉 대회 최우수 선수 상인 골든 볼(Golden Ball)은 아르헨티나의 리오넬 메시가 수상했습니다.\n"
     ]
    }
   ],
   "source": [
    "#zero-shot\n",
    "context_user = [\n",
    "    {\n",
    "        'role':'system', \n",
    "        'content':'너는 월드컵 전문가야.'\n",
    "    }\n",
    "]\n",
    "print(return_Response(\"2022년 월드컵 우승자와 MVP는 누구야\", context_user))"
   ]
  },
  {
   "cell_type": "markdown",
   "id": "60b3afda-8a1d-4e36-9965-be24a4852941",
   "metadata": {},
   "source": [
    "## One-shot"
   ]
  },
  {
   "cell_type": "code",
   "execution_count": 5,
   "id": "33ac7693-6cf3-44f7-b2ff-55d8a36fe775",
   "metadata": {
    "colab": {
     "base_uri": "https://localhost:8080/"
    },
    "id": "33ac7693-6cf3-44f7-b2ff-55d8a36fe775",
    "outputId": "9cb248e1-19e3-4ef1-f03c-d126adf4a851"
   },
   "outputs": [
    {
     "name": "stdout",
     "output_type": "stream",
     "text": [
      "2010년 월드컵 우승자는 스페인이며, MVP는 디에고 포를란(우루과이)이었습니다.\n"
     ]
    }
   ],
   "source": [
    "#one-shot\n",
    "context_user = [\n",
    "    {'role':'system', 'content':\n",
    "     \"\"\"너는 월드컵 전문가야.\n",
    "\n",
    "     2022년 월드컵 우승자는 누구야?\n",
    "     MVP: 리오넬 메시.\n",
    "     Team: 아르헨티나.\"\"\"}\n",
    "]\n",
    "print(return_Response(\"2010년 월드컵 우승자와 MVP는 누구야?\", context_user))"
   ]
  },
  {
   "cell_type": "markdown",
   "id": "32c454a8-181b-482b-873a-81d6ffde4674",
   "metadata": {
    "id": "32c454a8-181b-482b-873a-81d6ffde4674"
   },
   "source": [
    "Smaller models, or more complicated formats, may require more than one shot. Here a sample with two shots.\n",
    "\n",
    "더 작은 모델이나 더 복잡한 형식의 경우 한 번 이상의 촬영이 필요할 수 있습니다. 다음은 두 개의 샷이 있는 샘플입니다."
   ]
  },
  {
   "cell_type": "markdown",
   "id": "504ea7bd-0b7e-4bf5-8703-05f0729e3aa5",
   "metadata": {},
   "source": [
    "## Few-shot"
   ]
  },
  {
   "cell_type": "code",
   "execution_count": 6,
   "id": "8ce600f7-f92e-4cf7-be4a-408f12eb39d6",
   "metadata": {
    "colab": {
     "base_uri": "https://localhost:8080/"
    },
    "id": "8ce600f7-f92e-4cf7-be4a-408f12eb39d6",
    "outputId": "de30bb15-f660-448b-96d4-556879da5d50"
   },
   "outputs": [
    {
     "name": "stdout",
     "output_type": "stream",
     "text": [
      "2002년 월드컵 우승자는 브라질이며, MVP는 호나우두입니다.\n"
     ]
    }
   ],
   "source": [
    "#Few shots\n",
    "context_user = [\n",
    "    {'role':'system', 'content':\n",
    "     \"\"\"너는 월드컵 전문가야.\n",
    "\n",
    "     2022년 월드컵 우승자는 누구야?\n",
    "     MVP: 리오넬 메시.\n",
    "     Team: 아르헨티나.\n",
    "\n",
    "     2010년 월드컵 우승자와 MVP는 누구야?\n",
    "     디에고 포를란(우루과이).\n",
    "     Team: 스페인.\"\"\"}\n",
    "]\n",
    "print(return_Response(\"2002년 월드컵 우승자와 MVP는 누구야?\", context_user))"
   ]
  },
  {
   "cell_type": "markdown",
   "id": "8d4b527c-319b-47fd-98b9-19a8d670a9d4",
   "metadata": {},
   "source": [
    "## Prompt 적용"
   ]
  },
  {
   "cell_type": "code",
   "execution_count": 7,
   "id": "20fa4a25-01a6-4f22-98db-ab7ccc9ba115",
   "metadata": {
    "colab": {
     "base_uri": "https://localhost:8080/"
    },
    "id": "20fa4a25-01a6-4f22-98db-ab7ccc9ba115",
    "outputId": "fcf7518f-1c75-43d6-9257-89913eeb2bd1"
   },
   "outputs": [
    {
     "name": "stdout",
     "output_type": "stream",
     "text": [
      "2002년 월드컵 우승자는 브라질이었고, MVP는 료 카카(이름: 카카)가 아닌 호나우두(이름: 호나우두)이었습니다. 브라질은 결승에서 독일을 2-0으로 이기고 우승을 차지했습니다. 호나우두는 대회에서 8골을 기록하며 골든 부츠도 수상했습니다.\n"
     ]
    }
   ],
   "source": [
    "#Recomended solution\n",
    "context_user = [\n",
    "    {'role':'system', 'content':'너는 월드컵 전문가야.\\n\\n'},\n",
    "    \n",
    "    {'role':'user', 'content':'2022년 월드컵 우승자는 누구야?'},\n",
    "    {'role':'assistant', 'content':\"\"\"MVP: 리오넬 메시. \\nTeam: 아르헨티나. \\n스코어: 4-4 승부차기. \"\"\"},\n",
    "    \n",
    "    {'role':'user', 'content':'2010년 월드컵 우승자와 MVP는 누구야??'},\n",
    "    {'role':'assistant', 'content':\"\"\"MVP: 디에고 포릍란(우루과이). \\nTeam: 스페인. \\n스코어: 1-0. \"\"\"},\n",
    "]\n",
    "\n",
    "print(return_Response(\"2002년 월드컵 우승자와 MVP는 누구야\", context_user))"
   ]
  },
  {
   "cell_type": "code",
   "execution_count": 8,
   "id": "36c32a32-c348-45b2-85ee-ab4500438c49",
   "metadata": {
    "colab": {
     "base_uri": "https://localhost:8080/"
    },
    "id": "36c32a32-c348-45b2-85ee-ab4500438c49",
    "outputId": "c179cefd-4089-406d-d2fb-af81bb0113a0"
   },
   "outputs": [
    {
     "name": "stdout",
     "output_type": "stream",
     "text": [
      "MVP: 지네딘 지단  \n",
      "Team: 브라질  \n",
      "스코어: 2-0\n"
     ]
    }
   ],
   "source": [
    "context_user = [\n",
    "    {'role':'system', 'content':\"\"\"너는 월드컵 전문가야.\n",
    "    너는 사용자의 질문에 대하여 월드컵 대회의 우승팀과 대회 MVP, 결승 결과를 답해줘,\n",
    "    다음과 같은 포맷으로:\n",
    "    MVP:\n",
    "    Team:\n",
    "    스코어: \"\"\"\n",
    "    }\n",
    "]\n",
    "\n",
    "print(return_Response(\"2002년 월드컵 우승자와 MVP는 누구야?\", context_user))"
   ]
  },
  {
   "cell_type": "markdown",
   "id": "qZPNTLMPnkQ4",
   "metadata": {
    "id": "qZPNTLMPnkQ4"
   },
   "source": [
    "## Few Shot classification.\n"
   ]
  },
  {
   "cell_type": "code",
   "execution_count": 9,
   "id": "ejcstgTxnnX5",
   "metadata": {
    "colab": {
     "base_uri": "https://localhost:8080/"
    },
    "id": "ejcstgTxnnX5",
    "outputId": "179ce58a-8592-40dd-8e4b-282d33be9489"
   },
   "outputs": [
    {
     "name": "stdout",
     "output_type": "stream",
     "text": [
      "감정: 중립\n"
     ]
    }
   ],
   "source": [
    "context_user = [\n",
    "    {'role':'system', 'content':    \n",
    "    \"\"\"귀하는 제품 의견을 검토하고 이를 긍정 또는 부정으로 분류하는 전문가입니다.\n",
    "\n",
    "    기능을 완벽하게 수행했고 가격도 적당하다고 생각하며 다시 구매할 것입니다.\n",
    "    감정: 긍정적\n",
    "\n",
    "    나쁘지는 않았지만 기능에 비해 가격이 조금 비싸서 다시 구매하지는 않을 것 같습니다.\n",
    "    감정: 부정적.\n",
    "\n",
    "    뭐라고 말해야 할지 모르겠네요. 아들이 사용하지만 좋아하지 않아요.\n",
    "    감정: 중립\n",
    "    \"\"\"}\n",
    "]\n",
    "print(return_Response(\"반품할 생각은 있지만 다시 구매할 계획은 있습니다.\", context_user))"
   ]
  }
 ],
 "metadata": {
  "colab": {
   "provenance": []
  },
  "kernelspec": {
   "display_name": "lecture",
   "language": "python",
   "name": "lecture"
  },
  "language_info": {
   "codemirror_mode": {
    "name": "ipython",
    "version": 3
   },
   "file_extension": ".py",
   "mimetype": "text/x-python",
   "name": "python",
   "nbconvert_exporter": "python",
   "pygments_lexer": "ipython3",
   "version": "3.11.7"
  }
 },
 "nbformat": 4,
 "nbformat_minor": 5
}
