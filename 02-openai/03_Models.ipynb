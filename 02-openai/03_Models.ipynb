{
 "cells": [
  {
   "cell_type": "markdown",
   "id": "60e63d71-c5ea-48fe-909a-911bea9bea53",
   "metadata": {},
   "source": [
    "# 03. Models"
   ]
  },
  {
   "cell_type": "code",
   "execution_count": 1,
   "id": "f211a33e-7170-43ae-912a-ad14695980ef",
   "metadata": {},
   "outputs": [],
   "source": [
    "from openai import OpenAI\n",
    "from dotenv import load_dotenv\n",
    "import os\n",
    "\n",
    "load_dotenv()\n",
    "client = OpenAI(api_key=os.getenv(\"OPENAI_API_KEY\"))"
   ]
  },
  {
   "cell_type": "code",
   "execution_count": 2,
   "id": "accb290a-c08e-4ea7-ae5e-0681dac4d3a9",
   "metadata": {},
   "outputs": [],
   "source": [
    "from openai import OpenAI \n",
    "\n",
    "MODEL=\"gpt-4o-mini\"\n",
    "client = OpenAI()"
   ]
  },
  {
   "cell_type": "code",
   "execution_count": 3,
   "id": "4d4d9fc9-d380-44bb-84a1-ac0990448b34",
   "metadata": {
    "tags": []
   },
   "outputs": [
    {
     "name": "stdout",
     "output_type": "stream",
     "text": [
      "ChatCompletionMessage(content='코드 속에 숨겨진, 묘한 리듬,  \\n함수란 이름의 착하고 고요한 심,  \\n입구는 매개변수, 변수의 초대장,  \\n해결의 열쇠를 쥐고 있는 아양.  \\n\\n기능을 나누고, 또 재사용,  \\n봄바람처럼 부는, 효율의 향상.  \\nreturn이라는 마법, 결과를 돌려,  \\n마치 한 줄기 빛, 어둠을 밀어내네.  \\n\\n형태는 다양해, 그 실체도 각양,  \\n입출력의 조화, 그 속에 담긴 창.  \\n재귀의 미소는, 무한한 탐험,  \\n상상의 나래를 펼치는 내 꿈.  \\n\\n에러와 버그가 찾아와도,  \\n함수의 정의, 나를 지켜줄 거야.  \\n입과 출의 정수, 명확한 규칙,  \\n코드의 바다 속, 나는 항해자.  \\n\\n그래, 이제는 알아, 함수의 매력,  \\n한 줄의 코드에 담긴 인생의 내력.  \\n함수는 삶과 같아, 나누고, 더하기,  \\n함께하는 순간들, 무한한 가능성을 담아.', refusal=None, role='assistant', audio=None, function_call=None, tool_calls=None)\n"
     ]
    }
   ],
   "source": [
    "completion = client.chat.completions.create(\n",
    "    model=MODEL,\n",
    "    messages=[\n",
    "        {\"role\": \"system\", \"content\": \"너는 유용하게 사용하는 assistant야.\"},\n",
    "        {\n",
    "            \"role\": \"user\",\n",
    "            \"content\": \"Python 프로그래밍에서 함수에 대한 시를 써줘.\"\n",
    "        }\n",
    "    ]\n",
    ")\n",
    "\n",
    "print(completion.choices[0].message)"
   ]
  }
 ],
 "metadata": {
  "kernelspec": {
   "display_name": "lecture",
   "language": "python",
   "name": "lecture"
  },
  "language_info": {
   "codemirror_mode": {
    "name": "ipython",
    "version": 3
   },
   "file_extension": ".py",
   "mimetype": "text/x-python",
   "name": "python",
   "nbconvert_exporter": "python",
   "pygments_lexer": "ipython3",
   "version": "3.11.7"
  }
 },
 "nbformat": 4,
 "nbformat_minor": 5
}
