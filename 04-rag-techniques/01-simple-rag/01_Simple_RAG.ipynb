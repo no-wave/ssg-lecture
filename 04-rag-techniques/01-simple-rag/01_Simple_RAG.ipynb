{
 "cells": [
  {
   "cell_type": "markdown",
   "metadata": {
    "vscode": {
     "languageId": "markdown"
    }
   },
   "source": [
    "# Simple RAG\n",
    "\n",
    "Simple RAG 구조는 다음과 같은 단계로 구성된다.:\n",
    "\n",
    "1. 데이터 수집 (Data Ingestion): 텍스트 데이터를 불러오고 전처리한다.\n",
    "1. 청크 분할 (Chunking): 검색 성능을 높이기 위해 데이터를 작은 단위로 나눈다.\n",
    "1. 임베딩 생성 (Embedding Creation): 텍스트 청크를 임베딩 모델을 이용해 수치 벡터로 변환한다.\n",
    "1. 의미 기반 검색 (Semantic Search): 사용자 질의에 기반하여 의미적으로 관련 있는 청크를 검색한다.\n",
    "1. 응답 생성 (Response Generation): 검색된 문맥을 바탕으로 언어 모델이 응답을 생성한다."
   ]
  },
  {
   "cell_type": "code",
   "execution_count": null,
   "metadata": {},
   "outputs": [],
   "source": [
    "%pip install openai \n",
    "%pip install fitz\n",
    "%pip install python-dotenv"
   ]
  },
  {
   "cell_type": "markdown",
   "metadata": {},
   "source": [
    "## Setting Up the Environment"
   ]
  },
  {
   "cell_type": "code",
   "execution_count": 1,
   "metadata": {},
   "outputs": [],
   "source": [
    "import fitz\n",
    "import numpy as np\n",
    "import json"
   ]
  },
  {
   "cell_type": "code",
   "execution_count": 2,
   "metadata": {
    "tags": []
   },
   "outputs": [],
   "source": [
    "from openai import OpenAI\n",
    "from dotenv import load_dotenv\n",
    "import os\n",
    "\n",
    "import os\n",
    "from dotenv import load_dotenv  \n",
    "\n",
    "!echo \"발급 받은 OpenAI API Key를 여기에 붙혀넣으세요.\" >> .env\n",
    "load_dotenv()\n",
    "\n",
    "client = OpenAI(api_key=os.getenv(\"OPENAI_API_KEY\"))"
   ]
  },
  {
   "cell_type": "markdown",
   "metadata": {},
   "source": [
    "## Extracting Text from a PDF File"
   ]
  },
  {
   "cell_type": "code",
   "execution_count": 3,
   "metadata": {},
   "outputs": [],
   "source": [
    "# PDF 파일에서 텍스트를 추출하는 함수\n",
    "def extract_text_from_pdf(pdf_path):\n",
    "    \"\"\"\n",
    "    PDF 파일에서 전체 텍스트를 추출합니다.\n",
    "\n",
    "    Args:\n",
    "        pdf_path (str): PDF 파일 경로\n",
    "\n",
    "    Returns:\n",
    "        str: 추출된 전체 텍스트\n",
    "    \"\"\"\n",
    "    # PDF 파일 열기\n",
    "    mypdf = fitz.open(pdf_path)\n",
    "    all_text = \"\"  # 추출된 텍스트를 저장할 문자열 초기화\n",
    "\n",
    "    # 각 페이지를 순회하며 텍스트 추출\n",
    "    for page_num in range(mypdf.page_count):\n",
    "        page = mypdf[page_num]  # 해당 페이지 가져오기\n",
    "        text = page.get_text(\"text\")  # 텍스트 추출\n",
    "        all_text += text  # 누적하여 전체 텍스트에 추가\n",
    "\n",
    "    return all_text  # 최종적으로 전체 텍스트 반환"
   ]
  },
  {
   "cell_type": "markdown",
   "metadata": {},
   "source": [
    "## Chunking the Extracted Text"
   ]
  },
  {
   "cell_type": "code",
   "execution_count": 4,
   "metadata": {},
   "outputs": [],
   "source": [
    "from typing import List\n",
    "\n",
    "# 텍스트를 일정 길이(n)와 중첩(overlap)을 기준으로 나누는 함수\n",
    "def chunk_text(text, n, overlap):\n",
    "    \"\"\"\n",
    "    주어진 텍스트를 n자 단위로, 지정된 overlap만큼 겹치도록 분할합니다.\n",
    "\n",
    "    Args:\n",
    "        text (str): 분할할 원본 텍스트\n",
    "        n (int): 각 청크(chunk)의 문자 수\n",
    "        overlap (int): 청크 간 겹치는 문자 수\n",
    "\n",
    "    Returns:\n",
    "        List[str]: 나누어진 텍스트 청크들의 리스트\n",
    "    \"\"\"\n",
    "    chunks = []  # 청크를 저장할 빈 리스트 초기화\n",
    "\n",
    "    # (n - overlap) 간격으로 텍스트를 순회하며 청크를 생성\n",
    "    for i in range(0, len(text), n - overlap):\n",
    "        # i부터 i + n까지의 텍스트를 청크로 잘라서 추가\n",
    "        chunks.append(text[i:i + n])\n",
    "\n",
    "    return chunks  # 청크 리스트 반환"
   ]
  },
  {
   "cell_type": "markdown",
   "metadata": {},
   "source": [
    "## Extracting and Chunking Text from a PDF File"
   ]
  },
  {
   "cell_type": "code",
   "execution_count": 5,
   "metadata": {},
   "outputs": [
    {
     "name": "stdout",
     "output_type": "stream",
     "text": [
      "텍스트 청크 개수: 21\n",
      "\n",
      "첫 번째 텍스트 청크:\n",
      "인공 지능 이해 \n",
      " \n",
      "1장: 인공 지능 소개 \n",
      "인공 지능(AI)은 디지털 컴퓨터 또는 컴퓨터로 제어되는 로봇이 지적인 존재와 일반적으로 \n",
      "관련된 작업을 수행할 수 있는 능력을 말합니다. 이 용어는 추론, 의미 발견, 일반화, 과거 \n",
      "경험으로부터의 학습 능력 등 인간의 특징적인 지적 프로세스가 부여된 시스템을 \n",
      "개발하는 프로젝트에 자주 적용됩니다. 지난 수십 년 동안 컴퓨팅 성능과 데이터 가용성의 \n",
      "발전으로 AI의 개발과 배포가 크게 가속화되었습니다. \n",
      "역사적 맥락 \n",
      "인공 지능에 대한 개념은 수세기 동안 존재해 왔으며 종종 신화와 소설에 묘사되기도 \n",
      "했습니다. 하지만 공식적인 AI 연구 분야는 20세기 중반에 시작되었습니다. 1956년 \n",
      "다트머스 워크숍은 AI의 발상지로 널리 알려져 있습니다. 초기 AI 연구는 문제 해결과 \n",
      "상징적 방법에 중점을 두었습니다. 1980년대에는 전문가 시스템이 등장했고, 1990년대와 \n",
      "2000년대에는 머신러닝과 신경망이 발전했습니다. 최근 딥러닝의 획기적인 발전은 이 \n",
      "분야에 혁신을 가져왔습니다. \n",
      "현대 관측 \n",
      "최신 AI 시스템은 일상 생활에서 점점 더 널리 보급되고 있습니다. Siri와 Alexa 같은 가상 \n",
      "비서부터 스트리밍 서비스 및 소셜 미디어의 추천 알고리즘에 이르기까지 AI는 우리의 \n",
      "생활, 업무, 상호 작용 방식에 영향을 미치고 있습니다. 자율 주행 자동차, 첨단 의료 진단, \n",
      "정교한 재무 모델링 도구의 개발은 AI가 광범위하고 성장하는 응용 분야를 보여줍니다. \n",
      "윤리적 영향, 편견, 일자리 대체에 대한 우려도 점점 더 커지고 있습니다. \n",
      " \n",
      "2장: 인공 지능의 핵심 개념 \n",
      "머신 러닝 \n",
      "머신러닝(ML)은 명시적으로 프로그래밍하지 않고도 시스템이 데이터로부터 학습할 수 \n",
      "있도록 하는 데 중점을 둔 AI의 하위 집합입니다. ML 알고리즘은 더 많은 데이터에 \n",
      "노출됨에 따라 패턴을 식별하고 예측하며 시간이 지남에 따라 성능을 개선합니다. \n",
      "지도 학습 \n",
      "지도 학습에서는 입력 데이터가 올바른 출력과 짝을 이루는 레이블이 지정된\n"
     ]
    }
   ],
   "source": [
    "# PDF 파일 경로 지정\n",
    "pdf_path = \"dataset/AI_Understanding.pdf\"\n",
    "\n",
    "# PDF 파일에서 텍스트 추출\n",
    "extracted_text = extract_text_from_pdf(pdf_path)\n",
    "\n",
    "# 추출한 텍스트를 1000자 단위로, 200자 중첩하여 청크로 분할\n",
    "text_chunks = chunk_text(extracted_text, 1000, 200)\n",
    "\n",
    "# 생성된 청크 수 출력\n",
    "print(\"텍스트 청크 개수:\", len(text_chunks))\n",
    "\n",
    "# 첫 번째 청크 내용 출력\n",
    "print(\"\\n첫 번째 텍스트 청크:\")\n",
    "print(text_chunks[0])"
   ]
  },
  {
   "cell_type": "markdown",
   "metadata": {},
   "source": [
    "## Creating Embeddings for Text Chunks"
   ]
  },
  {
   "cell_type": "code",
   "execution_count": 7,
   "metadata": {},
   "outputs": [],
   "source": [
    "# 주어진 텍스트에 대해 지정된 모델을 사용하여 임베딩을 생성하는 함수\n",
    "def create_embeddings(text, model=\"text-embedding-3-small\"):\n",
    "    \"\"\"\n",
    "    지정된 OpenAI 모델을 사용하여 주어진 텍스트에 대한 임베딩을 생성합니다.\n",
    "\n",
    "    Args:\n",
    "        text (str): 임베딩을 생성할 입력 텍스트\n",
    "        model (str): 사용할 임베딩 모델 (기본값: \"BAAI/bge-en-icl\")\n",
    "\n",
    "    Returns:\n",
    "        dict: OpenAI API로부터 받은 임베딩 응답 결과\n",
    "    \"\"\"\n",
    "    # 지정된 모델을 사용하여 텍스트 임베딩 생성\n",
    "    response = client.embeddings.create(\n",
    "        model=model,\n",
    "        input=text\n",
    "    )\n",
    "\n",
    "    return response  # 임베딩 결과 응답 반환\n",
    "\n",
    "# 분할된 텍스트 청크에 대해 임베딩 생성\n",
    "response = create_embeddings(text_chunks)"
   ]
  },
  {
   "cell_type": "markdown",
   "metadata": {},
   "source": [
    "## Performing Semantic Search"
   ]
  },
  {
   "cell_type": "code",
   "execution_count": 8,
   "metadata": {},
   "outputs": [],
   "source": [
    "# 두 벡터 간 코사인 유사도를 계산하는 함수\n",
    "def cosine_similarity(vec1, vec2):\n",
    "    \"\"\"\n",
    "    두 벡터 간의 코사인 유사도를 계산합니다.\n",
    "\n",
    "    Args:\n",
    "        vec1 (np.ndarray): 첫 번째 벡터\n",
    "        vec2 (np.ndarray): 두 번째 벡터\n",
    "\n",
    "    Returns:\n",
    "        float: 두 벡터 간의 코사인 유사도 (값의 범위: -1 ~ 1)\n",
    "    \"\"\"\n",
    "    # 두 벡터의 내적을 계산하고, 각 벡터의 노름 곱으로 나눔\n",
    "    return np.dot(vec1, vec2) / (np.linalg.norm(vec1) * np.linalg.norm(vec2))"
   ]
  },
  {
   "cell_type": "code",
   "execution_count": 9,
   "metadata": {},
   "outputs": [],
   "source": [
    "# 쿼리를 기반으로 텍스트 청크에서 의미 기반 검색을 수행하는 함수\n",
    "def semantic_search(query, text_chunks, embeddings, k=5):\n",
    "    \"\"\"\n",
    "    주어진 쿼리와 임베딩을 사용하여 텍스트 청크에서 의미 기반 검색을 수행합니다.\n",
    "\n",
    "    Args:\n",
    "        query (str): 의미 검색에 사용할 쿼리 텍스트\n",
    "        text_chunks (List[str]): 검색 대상이 되는 텍스트 청크 리스트\n",
    "        embeddings (List[dict]): 각 청크에 대한 임베딩 객체 리스트\n",
    "        k (int): 상위 k개의 관련 텍스트 청크를 반환 (기본값: 5)\n",
    "\n",
    "    Returns:\n",
    "        List[str]: 쿼리와 가장 관련 있는 텍스트 청크 상위 k개\n",
    "    \"\"\"\n",
    "    # 쿼리에 대한 임베딩 생성\n",
    "    query_embedding = create_embeddings(query).data[0].embedding\n",
    "    similarity_scores = []  # 유사도 점수를 저장할 리스트 초기화\n",
    "\n",
    "    # 각 텍스트 청크의 임베딩과 쿼리 임베딩 간의 코사인 유사도 계산\n",
    "    for i, chunk_embedding in enumerate(embeddings):\n",
    "        similarity_score = cosine_similarity(\n",
    "            np.array(query_embedding), \n",
    "            np.array(chunk_embedding.embedding)\n",
    "        )\n",
    "        similarity_scores.append((i, similarity_score))  # 인덱스와 유사도 함께 저장\n",
    "\n",
    "    # 유사도 점수를 기준으로 내림차순 정렬\n",
    "    similarity_scores.sort(key=lambda x: x[1], reverse=True)\n",
    "\n",
    "    # 상위 k개의 청크 인덱스를 추출\n",
    "    top_indices = [index for index, _ in similarity_scores[:k]]\n",
    "\n",
    "    # 상위 k개의 관련 텍스트 청크를 반환\n",
    "    return [text_chunks[index] for index in top_indices]"
   ]
  },
  {
   "cell_type": "markdown",
   "metadata": {},
   "source": [
    "## Running a Query on Extracted Chunks"
   ]
  },
  {
   "cell_type": "code",
   "execution_count": 10,
   "metadata": {},
   "outputs": [
    {
     "name": "stdout",
     "output_type": "stream",
     "text": [
      "질의(Query): '설명 가능한 AI(Explainable AI)'란 무엇이며, 왜 중요한가?\n",
      "문맥 1:\n",
      "고 사회에 유익한 AI 시스템의 개발과 \n",
      "배포를 보장하기 위한 지침입니다. 주요 원칙에는 인권 존중, 개인정보 보호, 비차별, \n",
      "공익성이 포함됩니다. \n",
      "AI의 편향성 해결 \n",
      "AI 시스템은 데이터에 존재하는 편견을 유전하고 증폭시켜 불공정하거나 차별적인 결과를 \n",
      "초래할 수 있습니다. 편향성을 해결하려면 신중한 데이터 수집, 알고리즘 설계, 지속적인 \n",
      "모니터링 및 평가가 필요합니다. \n",
      "투명성 및 설명 가능성 \n",
      "투명성과 설명 가능성은 AI 시스템에 대한 신뢰를 구축하는 데 필수적입니다. 설명 가능한 \n",
      "AI(XAI) 기술은 AI의 결정을 더 이해하기 쉽게 만들어 사용자가 공정성과 정확성을 \n",
      "평가할 수 있도록 하는 것을 목표로 합니다. \n",
      "개인정보 및 데이터 보호 \n",
      "AI 시스템은 대량의 데이터에 의존하는 경우가 많기 때문에 개인정보 보호와 데이터 \n",
      "보호에 대한 우려가 제기됩니다. 책임감 있는 데이터 처리, 개인정보 보호 기술 구현, \n",
      "데이터 보호 규정 준수는 매우 중요합니다. \n",
      "책임과 의무 \n",
      "AI 시스템에 대한 책임과 의무를 확립하는 것은 잠재적인 피해를 해결하고 윤리적 행동을 \n",
      "보장하는 데 필수적입니다. 여기에는 AI 시스템의 개발자, 배포자, 사용자에 대한 역할과 \n",
      "책임을 정의하는 것이 포함됩니다. \n",
      " \n",
      "20장: AI에 대한 신뢰 구축 \n",
      "투명성 및 설명 가능성 \n",
      "투명성과 설명 가능성은 AI에 대한 신뢰를 구축하는 데 있어 핵심입니다. AI 시스템을 \n",
      "이해하기 쉽게 만들고 의사 결정 프로세스에 대한 인사이트를 제공하면 사용자가 AI의 \n",
      "신뢰성과 공정성을 평가하는 데 도움이 됩니다. \n",
      "견고성 및 신뢰성 \n",
      "AI 시스템의 견고성과 신뢰성을 확보하는 것은 신뢰를 구축하는 데 필수적입니다. \n",
      "여기에는 AI 모델 테스트 및 검증, 성능 모니터링, 잠재적인 취약점 해결이 포함됩니다. \n",
      "사용자 제어 및 대행사 \n",
      "사용자에게 AI 시스템을 제어할 수 있는 권한을 부여하고 AI와의 상호 작용에 대한 \n",
      "선택권을 제공하면 신뢰가 향상됩니다. 여기에는 사용자가 AI 설정을 사용자 지정하고, \n",
      "\n",
      "----------------\n",
      "문맥 2:\n",
      "동화하고 위협 탐지 정확도를 \n",
      "개선하며 전반적인 사이버 보안 태세를 강화할 수 있습니다. \n",
      " \n",
      "4장: AI의 윤리적, 사회적 의미 \n",
      "AI의 급속한 발전과 보급은 윤리적, 사회적으로 심각한 우려를 불러일으킵니다. 이러한 \n",
      "우려에는 다음이 포함됩니다: \n",
      "편견과 공정성 \n",
      "AI 시스템은 데이터에 존재하는 편견을 계승하고 증폭시켜 불공정하거나 차별적인 결과를 \n",
      "초래할 수 있습니다. AI 시스템의 공정성을 보장하고 편견을 완화하는 것은 매우 중요한 \n",
      "과제입니다. \n",
      "투명성 및 설명 가능성 \n",
      "많은 AI 시스템, 특히 딥러닝 모델은 '블랙박스'와 같아서 어떤 방식으로 의사 결정에 \n",
      "도달하는지 이해하기 어렵습니다. 투명성과 설명 가능성을 높이는 것은 신뢰와 책임감을 \n",
      "구축하는 데 매우 중요합니다. \n",
      "개인정보 보호 및 보안 \n",
      "AI 시스템은 대량의 데이터에 의존하는 경우가 많기 때문에 개인정보 보호 및 데이터 \n",
      "보안에 대한 우려가 제기됩니다. 민감한 정보를 보호하고 책임감 있는 데이터 처리를 \n",
      "보장하는 것은 필수적입니다. \n",
      "일자리 이동 \n",
      "AI의 자동화 기능으로 인해 특히 반복적이거나 일상적인 업무가 많은 산업에서 일자리 \n",
      "대체에 대한 우려가 제기되고 있습니다. AI 기반 자동화의 잠재적인 경제적, 사회적 영향을 \n",
      "해결하는 것이 핵심 과제입니다. \n",
      "자율성 및 제어 \n",
      "AI 시스템이 더욱 자율화됨에 따라 통제, 책임, 의도하지 않은 결과의 발생 가능성에 대한 \n",
      "의문이 제기되고 있습니다. AI 개발 및 배포를 위한 명확한 가이드라인과 윤리적 \n",
      "프레임워크를 수립하는 것이 중요합니다. \n",
      "AI의 무기화 \n",
      "자율 무기 시스템에 AI를 사용할 경우 심각한 윤리적, 보안적 우려가 제기될 수 있습니다. AI \n",
      "기반 무기와 관련된 위험을 해결하기 위해 국제적인 논의와 규제가 필요합니다. \n",
      " \n",
      "5장: 인공 지능의 미래 \n",
      "AI의 미래는 다양한 영역에서 지속적인 발전과 폭넓은 도입으로 특징지어질 것입니다. \n",
      "주요 트렌드와 개발 분야는 다음과 같습니다: \n",
      "설명 가능한 AI(XAI) \n",
      "설명 가능한 AI(XAI)는\n",
      "----------------\n"
     ]
    }
   ],
   "source": [
    "import json\n",
    "\n",
    "# 검증용 JSON 파일을 불러옴\n",
    "with open('../../dataset/validation.json') as f:\n",
    "    data = json.load(f)\n",
    "\n",
    "# 첫 번째 항목에서 질의 추출\n",
    "query = data[0]['question']\n",
    "\n",
    "# 의미 기반 검색 수행: 주어진 쿼리에 대해 가장 관련성 높은 텍스트 청크 2개 검색\n",
    "top_chunks = semantic_search(query, text_chunks, response.data, k=2)\n",
    "\n",
    "# 질의 출력\n",
    "print(\"질의(Query):\", query)\n",
    "\n",
    "# 관련성 높은 문맥 청크 2개 출력\n",
    "for i, chunk in enumerate(top_chunks):\n",
    "    print(f\"문맥 {i + 1}:\\n{chunk}\\n----------------\")"
   ]
  },
  {
   "cell_type": "markdown",
   "metadata": {},
   "source": [
    "## Generating a Response Based on Retrieved Chunks"
   ]
  },
  {
   "cell_type": "code",
   "execution_count": 11,
   "metadata": {},
   "outputs": [],
   "source": [
    "# AI 어시스턴트를 위한 시스템 프롬프트 정의\n",
    "system_prompt = (\n",
    "    \"당신은 주어진 문맥을 기반으로만 답변하는 AI 어시스턴트입니다. \"\n",
    "    \"제공된 문맥에서 직접적으로 답을 도출할 수 없는 경우에는 다음과 같이 답하십시오: \"\n",
    "    \"'I do not have enough information to answer that.'\"\n",
    ")\n",
    "\n",
    "# AI 응답을 생성하는 함수\n",
    "def generate_response(system_prompt, user_message, model=\"gpt-4o-mini\"):\n",
    "    \"\"\"\n",
    "    시스템 프롬프트와 사용자 메시지를 기반으로 AI 모델의 응답을 생성합니다.\n",
    "\n",
    "    Args:\n",
    "        system_prompt (str): AI의 응답 방식을 지정하는 시스템 메시지\n",
    "        user_message (str): 사용자 질의 또는 메시지\n",
    "        model (str): 사용할 언어 모델 이름\n",
    "\n",
    "    Returns:\n",
    "        dict: 생성된 AI 응답을 포함한 API 응답 객체\n",
    "    \"\"\"\n",
    "    response = client.chat.completions.create(\n",
    "        model=model,\n",
    "        temperature=0,  # 일관된 응답을 위해 temperature는 0\n",
    "        messages=[\n",
    "            {\"role\": \"system\", \"content\": system_prompt},\n",
    "            {\"role\": \"user\", \"content\": user_message}\n",
    "        ]\n",
    "    )\n",
    "    return response\n",
    "\n",
    "# 검색된 상위 문맥(top_chunks)을 기반으로 사용자 프롬프트 구성\n",
    "user_prompt = \"\\n\".join([\n",
    "    f\"Context {i + 1}:\\n{chunk}\\n--------------\\n\" \n",
    "    for i, chunk in enumerate(top_chunks)\n",
    "])\n",
    "user_prompt = f\"{user_prompt}\\nQuestion: {query}\"\n",
    "\n",
    "# AI 응답 생성\n",
    "ai_response = generate_response(system_prompt, user_prompt)"
   ]
  },
  {
   "cell_type": "markdown",
   "metadata": {},
   "source": [
    "## Evaluating the AI Response"
   ]
  },
  {
   "cell_type": "code",
   "execution_count": 12,
   "metadata": {},
   "outputs": [
    {
     "name": "stdout",
     "output_type": "stream",
     "text": [
      "1점\n"
     ]
    }
   ],
   "source": [
    "# 평가 시스템을 위한 시스템 프롬프트 정의\n",
    "evaluate_system_prompt = (\n",
    "    \"당신은 AI 어시스턴트의 응답을 평가하는 지능형 평가 시스템입니다. \"\n",
    "    \"AI 응답이 정답에 매우 근접하면 점수 1점을 부여하고, \"\n",
    "    \"정답과 맞지 않거나 불만족스러우면 0점을 부여하세요. \"\n",
    "    \"부분적으로 일치하면 0.5점을 부여하세요.\"\n",
    ")\n",
    "\n",
    "# 사용자 질의, AI 응답, 정답, 평가 프롬프트를 결합하여 평가용 프롬프트 생성\n",
    "evaluation_prompt = (\n",
    "    f\"User Query: {query}\\n\"\n",
    "    f\"AI Response:\\n{ai_response.choices[0].message.content}\\n\"\n",
    "    f\"True Response: {data[0]['ideal_answer']}\\n\"\n",
    "    f\"{evaluate_system_prompt}\"\n",
    ")\n",
    "\n",
    "# 평가 시스템 프롬프트를 사용하여 AI 응답 평가 점수 생성\n",
    "evaluation_response = generate_response(evaluate_system_prompt, evaluation_prompt)\n",
    "\n",
    "# 평가 결과 출력\n",
    "print(evaluation_response.choices[0].message.content)"
   ]
  }
 ],
 "metadata": {
  "kernelspec": {
   "display_name": "lecture",
   "language": "python",
   "name": "lecture"
  },
  "language_info": {
   "codemirror_mode": {
    "name": "ipython",
    "version": 3
   },
   "file_extension": ".py",
   "mimetype": "text/x-python",
   "name": "python",
   "nbconvert_exporter": "python",
   "pygments_lexer": "ipython3",
   "version": "3.11.7"
  }
 },
 "nbformat": 4,
 "nbformat_minor": 4
}
